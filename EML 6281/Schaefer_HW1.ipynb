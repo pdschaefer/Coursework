{
 "cells": [
  {
   "cell_type": "code",
   "execution_count": 2,
   "metadata": {},
   "outputs": [],
   "source": [
    "import numpy as np\n",
    "import math as m"
   ]
  },
  {
   "cell_type": "code",
   "execution_count": 33,
   "metadata": {},
   "outputs": [
    {
     "name": "stdout",
     "output_type": "stream",
     "text": [
      "Transforming from D to C \n",
      " [[  0.61237244  -0.43559574   0.65973961  -7.89149131]\n",
      " [  0.61237244   0.78914913  -0.04736717 -20.13894002]\n",
      " [ -0.5          0.4330127    0.75        15.66987298]\n",
      " [  0.           0.           0.           1.        ]]\n"
     ]
    }
   ],
   "source": [
    "BA_T = np.array(\n",
    "                [\n",
    "                    m.sqrt(3)/2,0,0.5,20,\n",
    "                    0,-1,0,0,\n",
    "                    0.5,0,-m.sqrt(3)/2,0,\n",
    "                    0,0,0,1\n",
    "                 ]\n",
    "            ).reshape(4,4)\n",
    "\n",
    "CA_T = np.array(\n",
    "                [\n",
    "                    m.sqrt(2)/2,m.sqrt(2)/2,0,0,\n",
    "                    m.sqrt(2)/2,-m.sqrt(2)/2,0,0,\n",
    "                    0,0,-1,10,\n",
    "                    0,0,0,1\n",
    "                 ]\n",
    "            ).reshape(4,4)\n",
    "\n",
    "DB_T = np.array(\n",
    "                [\n",
    "                    1,0,0,0,\n",
    "                    0,m.sqrt(3)/2,0.5,10,\n",
    "                    0,-0.5,m.sqrt(3)/2,0,\n",
    "                    0,0,0,1\n",
    "                 ]\n",
    "            ).reshape(4,4)\n",
    "\n",
    "CB_T = np.matmul(\n",
    "                    CA_T,\n",
    "                    np.linalg.inv(BA_T)\n",
    "                )\n",
    "\n",
    "CD_T = np.matmul(\n",
    "                    CB_T,\n",
    "                    np.linalg.inv(DB_T)\n",
    "                )\n",
    "\n",
    "print(f\"Transforming from D to C \\n {CD_T}\")"
   ]
  },
  {
   "cell_type": "code",
   "execution_count": null,
   "metadata": {},
   "outputs": [],
   "source": [
    "p1 = np.array(\n",
    "    [\n",
    "\n",
    "    ]\n",
    "            )"
   ]
  }
 ],
 "metadata": {
  "kernelspec": {
   "display_name": "Coursework",
   "language": "python",
   "name": "python3"
  },
  "language_info": {
   "codemirror_mode": {
    "name": "ipython",
    "version": 3
   },
   "file_extension": ".py",
   "mimetype": "text/x-python",
   "name": "python",
   "nbconvert_exporter": "python",
   "pygments_lexer": "ipython3",
   "version": "3.10.12"
  },
  "orig_nbformat": 4
 },
 "nbformat": 4,
 "nbformat_minor": 2
}
