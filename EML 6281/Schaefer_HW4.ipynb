{
 "cells": [
  {
   "cell_type": "code",
   "execution_count": 1,
   "metadata": {},
   "outputs": [],
   "source": [
    "import numpy as np\n",
    "import pandas as pd\n",
    "import math as m"
   ]
  },
  {
   "cell_type": "code",
   "execution_count": 7,
   "metadata": {},
   "outputs": [],
   "source": [
    "def close_the_loop(P_6Tool,P_FTool,S_F6,a_F67):\n",
    "    \n",
    "    P_6Tool.reshape(3,1)\n",
    "    P_FTool.reshape(3,1)\n",
    "    S_F6.reshape(3,1)\n",
    "    a_F67.reshape(3,1)\n",
    "\n",
    "    a_67 = 0\n",
    "    alpha_67 = 90\n",
    "\n",
    "    S_F7 = np.cross(a_F67,S_F6)\n",
    "    S_F1 = np.array([0,0,1]).reshape(3,1)\n",
    "\n",
    "\n",
    "    c_71 = np.dot(S_F7,S_F1)\n",
    "\n",
    "    ## special case 1\n",
    "    if np.abs(c_71) == 1:\n",
    "        S_7 = 0\n",
    "        s_71 = 0\n",
    "\n",
    "        ## MORE STUFF\n",
    "\n",
    "        return a_71,alpha_71,S_7,t_7,S_1,g_1\n",
    "\n",
    "    ## special case 2\n",
    "    if True == False:\n",
    "        print('impossible') #PH\n",
    "        return a_71,alpha_71,S_7,t_7,S_1,g_1\n",
    "    \n",
    "\n",
    "    a_F71 = np.cross(S_F7,S_F1)/np.linalg.norm(np.cross(S_F7,S_F1))\n",
    "\n",
    "    s_71 = np.dot((np.cross(S_F7,S_F1)),a_F71)\n",
    "\n",
    "    c7 = np.dot(a_F67,a_F71)\n",
    "\n",
    "    s7 = np.dot(np.cross(a_F67,a_F71),S_F7)\n",
    "\n",
    "    \n",
    "\n",
    "\n",
    "\n",
    "\n",
    "\n",
    "\n",
    "\n",
    "\n",
    "\n",
    "\n",
    "\n",
    "\n",
    "\n",
    "\n",
    "    \n",
    "    return a_71,alpha_71,S_7,t_7,S_1,g_1"
   ]
  }
 ],
 "metadata": {
  "kernelspec": {
   "display_name": "Coursework",
   "language": "python",
   "name": "python3"
  },
  "language_info": {
   "codemirror_mode": {
    "name": "ipython",
    "version": 3
   },
   "file_extension": ".py",
   "mimetype": "text/x-python",
   "name": "python",
   "nbconvert_exporter": "python",
   "pygments_lexer": "ipython3",
   "version": "3.10.12"
  },
  "orig_nbformat": 4
 },
 "nbformat": 4,
 "nbformat_minor": 2
}
