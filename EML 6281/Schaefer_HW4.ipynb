{
 "cells": [
  {
   "cell_type": "code",
   "execution_count": 1,
   "metadata": {},
   "outputs": [],
   "source": [
    "import numpy as np\n",
    "import pandas as pd\n",
    "import math as m"
   ]
  },
  {
   "cell_type": "code",
   "execution_count": 12,
   "metadata": {},
   "outputs": [],
   "source": [
    "def close_the_loop(P_6Tool,P_FTool,S_F6,a_F67):\n",
    "    \n",
    "    # P_6Tool = P_6Tool#.reshape(3,1)\n",
    "    # P_FTool = P_FTool#.reshape(3,1)\n",
    "    # S_F6 = S_F6#.reshape(3,1)\n",
    "    # a_F67 = a_F67#.reshape(3,1)\n",
    "\n",
    "    P_F6org = P_FTool - (np.dot(P_6Tool,np.array([1,0,0]))*a_F67 + np.dot(P_6Tool,np.array([0,1,0]))*np.cross(S_F6,a_F67) + np.dot(P_6Tool,np.array([0,0,1]))*S_F6)\n",
    "\n",
    "    a_67 = 0\n",
    "    alpha_67 = 90\n",
    "    x_FF = np.array([1,0,0])#.reshape(3,1)\n",
    "\n",
    "    S_F7 = np.cross(a_F67,S_F6)\n",
    "    S_F1 = np.array([0,0,1])#.reshape(3,1)\n",
    "\n",
    "\n",
    "    c_71 = np.dot(S_F7,S_F1)\n",
    "    alpha_71 = m.acos(c_71)*(180/m.pi)\n",
    "    print('alpha71:',round(alpha_71,2),'\\n')\n",
    "\n",
    "    ## special case 1\n",
    "    if np.abs(c_71) == 1:\n",
    "        S_7 = 0\n",
    "        s_71 = 0\n",
    "\n",
    "        S_1 = np.dot(-P_F6org,S_F1)\n",
    "\n",
    "        a_71 = np.abs(-P_F6org + S_1*S_F1)\n",
    "\n",
    "        ## special case 2\n",
    "        if a_71 == 0:\n",
    "            \n",
    "            t_7 = 0\n",
    "            a_71 = a_67\n",
    "            cg_1 = np.dot(a_F71,x_FF)\n",
    "            sg_1 = np.dot(np.cross(a_F71,x_FF),S_F1)\n",
    "            g_1 = m.asin(sg_1)*(180/m.pi)\n",
    "\n",
    "            return a_71,alpha_71,S_7,t_7,S_1,g_1\n",
    "    \n",
    "        a_F71 = (-P_F6org + S_1*S_F1)/a_71\n",
    "\n",
    "        c7 = np.dot(a_F67,a_F71)\n",
    "        s7 = np.dot(np.cross(a_F67,a_F71),S_F7)\n",
    "        t_7 = m.acos(c7)*(180/m.pi)\n",
    "\n",
    "        cg_1 = np.dot(a_F71,x_FF)\n",
    "        sg_1 = np.dot(np.cross(a_F71,x_FF),S_F1)\n",
    "        g_1 = m.asin(sg_1)*(180/m.pi)\n",
    "\n",
    "        return a_71,alpha_71,S_7,t_7,S_1,g_1\n",
    "\n",
    "    a_F71 = np.cross(S_F7,S_F1)/np.linalg.norm(np.cross(S_F7,S_F1))\n",
    "\n",
    "    s_71 = np.dot((np.cross(S_F7,S_F1)),a_F71)\n",
    "\n",
    "    c7 = np.dot(a_F67,a_F71)\n",
    "    s7 = np.dot(np.cross(a_F67,a_F71),S_F7)\n",
    "    t_7 = m.acos(c7)*(180/m.pi)\n",
    "    print('theta7:',round(t_7,2),'\\n')\n",
    "\n",
    "    cg_1 = np.dot(a_F71,x_FF)\n",
    "    sg_1 = np.dot(np.cross(a_F71,x_FF),S_F1)\n",
    "    g_1 = m.asin(sg_1)*(180/m.pi)\n",
    "    print('gamma7:',round(g_1,2),'\\n')\n",
    "\n",
    "    S_7 = np.dot((np.cross(S_F1,P_F6org)),a_F71)/s_71\n",
    "    print('S7:',S_7,'\\n')\n",
    "           \n",
    "    a_71 = np.dot(np.cross(P_F6org,S_F1),S_F7)/s_71\n",
    "    print('a71:',a_71,'\\n')\n",
    "\n",
    "\n",
    "    S_1 = np.dot(np.cross(P_F6org,S_F7),a_F71)/s_71\n",
    "    print('S1:',S_1,'\\n')\n",
    "    \n",
    "    return a_71,alpha_71,S_7,t_7,S_1,g_1"
   ]
  },
  {
   "cell_type": "code",
   "execution_count": 13,
   "metadata": {},
   "outputs": [
    {
     "name": "stdout",
     "output_type": "stream",
     "text": [
      "alpha71: 102.5 \n",
      "\n",
      "theta7: 63.69 \n",
      "\n",
      "gamma7: -84.79 \n",
      "\n",
      "S7: 20.668346856369745 \n",
      "\n",
      "a71: -16.68351681750941 \n",
      "\n",
      "S1: -17.53192124733023 \n",
      "\n"
     ]
    }
   ],
   "source": [
    "P_6Tool = np.array([5,3,7])\n",
    "P_FTool = np.array([25,23,24])\n",
    "S_F6 = np.array([0.177,0.884,-0.433])\n",
    "a_F67 = np.array([-0.153,0.459,0.875])\n",
    "\n",
    "close_the_loop(P_6Tool,P_FTool,S_F6,a_F67);"
   ]
  }
 ],
 "metadata": {
  "kernelspec": {
   "display_name": "Coursework",
   "language": "python",
   "name": "python3"
  },
  "language_info": {
   "codemirror_mode": {
    "name": "ipython",
    "version": 3
   },
   "file_extension": ".py",
   "mimetype": "text/x-python",
   "name": "python",
   "nbconvert_exporter": "python",
   "pygments_lexer": "ipython3",
   "version": "3.10.4"
  },
  "orig_nbformat": 4
 },
 "nbformat": 4,
 "nbformat_minor": 2
}
