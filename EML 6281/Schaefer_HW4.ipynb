{
 "cells": [
  {
   "cell_type": "code",
   "execution_count": 2,
   "metadata": {},
   "outputs": [],
   "source": [
    "import numpy as np\n",
    "import pandas as pd\n",
    "import math as m"
   ]
  },
  {
   "cell_type": "code",
   "execution_count": 20,
   "metadata": {},
   "outputs": [],
   "source": [
    "def close_the_loop(P_6Tool,P_FTool,S_F6,a_F67):\n",
    "    \n",
    "    # P_6Tool = P_6Tool#.reshape(3,1)\n",
    "    # P_FTool = P_FTool#.reshape(3,1)\n",
    "    # S_F6 = S_F6#.reshape(3,1)\n",
    "    # a_F67 = a_F67#.reshape(3,1)\n",
    "\n",
    "    P_F6org = P_FTool - (np.dot(P_6Tool,np.array([1,0,0]))*a_F67 + np.dot(P_6Tool,np.array([0,1,0]))*np.cross(S_F6,a_F67) + np.dot(P_6Tool,np.array([0,0,1]))*S_F6)\n",
    "\n",
    "    a_67 = 0\n",
    "    alpha_67 = 90\n",
    "    x_FF = np.array([1,0,0])#.reshape(3,1)\n",
    "\n",
    "    S_F7 = np.cross(a_F67,S_F6)\n",
    "    S_F1 = np.array([0,0,1])#.reshape(3,1)\n",
    "\n",
    "    c_71 = np.dot(S_F7,S_F1)\n",
    "    alpha_71 = m.acos(c_71)*(180/m.pi)\n",
    "    \n",
    "\n",
    "    ## special case 1\n",
    "    if np.abs(c_71) == 1:\n",
    "        S_7 = 0\n",
    "        s_71 = 0\n",
    "\n",
    "        S_1 = np.dot(-P_F6org,S_F1)\n",
    "\n",
    "        a_71 = np.abs(-P_F6org + S_1*S_F1)\n",
    "\n",
    "        ## special case 2\n",
    "        if a_71 == 0:\n",
    "            \n",
    "            a_F71 = a_F67\n",
    "            t_7 = 0\n",
    "            a_71 = a_67\n",
    "            cg_1 = np.dot(a_F71,x_FF)\n",
    "            sg_1 = np.dot(np.cross(a_F71,x_FF),S_F1)\n",
    "            g_1 = m.asin(sg_1)*(180/m.pi)\n",
    "\n",
    "            return a_71,alpha_71,S_7,t_7,S_1,g_1\n",
    "    \n",
    "        a_F71 = (-P_F6org + S_1*S_F1)/a_71\n",
    "\n",
    "        c7 = np.dot(a_F67,a_F71)\n",
    "        s7 = np.dot(np.cross(a_F67,a_F71),S_F7)\n",
    "        t_7 = m.acos(c7)*(180/m.pi)\n",
    "\n",
    "        cg_1 = np.dot(a_F71,x_FF)\n",
    "        sg_1 = np.dot(np.cross(a_F71,x_FF),S_F1)\n",
    "        g_1 = m.asin(sg_1)*(180/m.pi)\n",
    "\n",
    "        return a_71,alpha_71,S_7,t_7,S_1,g_1\n",
    "\n",
    "    a_F71 = np.cross(S_F7,S_F1)/np.linalg.norm(np.cross(S_F7,S_F1))\n",
    "\n",
    "    s_71 = np.dot((np.cross(S_F7,S_F1)),a_F71)\n",
    "\n",
    "    c7 = np.dot(a_F67,a_F71)\n",
    "    s7 = np.dot(np.cross(a_F67,a_F71),S_F7)\n",
    "    t_7 = m.acos(c7)*(180/m.pi)\n",
    "    \n",
    "\n",
    "    cg_1 = m.acos(np.dot(a_F71,x_FF))\n",
    "    sg_1 = m.asin(np.dot(np.cross(a_F71,x_FF),S_F1))\n",
    "\n",
    "    g_c = [cg_1,(2*m.pi)-cg_1,-sg_1,(m.pi)-sg_1]\n",
    "\n",
    "    for k in range(len(g_c)):\n",
    "        if len([i for i,j in enumerate(g_c) if round(j,0) == round(g_c[k],2)]) > 1:\n",
    "            g_1 = g_c[k]\n",
    "\n",
    "            \n",
    "    S_7 = np.dot((np.cross(S_F1,P_F6org)),a_F71)/s_71\n",
    "              \n",
    "    a_71 = np.dot(np.cross(P_F6org,S_F1),S_F7)/s_71\n",
    "    \n",
    "\n",
    "\n",
    "    S_1 = np.dot(np.cross(P_F6org,S_F7),a_F71)/s_71\n",
    "       \n",
    "    return a_71,alpha_71,S_7,t_7,S_1,g_1"
   ]
  },
  {
   "cell_type": "code",
   "execution_count": 21,
   "metadata": {},
   "outputs": [
    {
     "name": "stdout",
     "output_type": "stream",
     "text": [
      "[1.4798917102975582, 4.803293596882028, 1.4798917102975588, 4.621484363887352]\n"
     ]
    },
    {
     "ename": "UnboundLocalError",
     "evalue": "local variable 'g_1' referenced before assignment",
     "output_type": "error",
     "traceback": [
      "\u001b[1;31m---------------------------------------------------------------------------\u001b[0m",
      "\u001b[1;31mUnboundLocalError\u001b[0m                         Traceback (most recent call last)",
      "\u001b[1;32mc:\\Users\\schaeferp\\Documents\\Code\\Coursework\\EML 6281\\Schaefer_HW4.ipynb Cell 3\u001b[0m line \u001b[0;36m8\n\u001b[0;32m      <a href='vscode-notebook-cell:/c%3A/Users/schaeferp/Documents/Code/Coursework/EML%206281/Schaefer_HW4.ipynb#W2sZmlsZQ%3D%3D?line=4'>5</a>\u001b[0m S_F6 \u001b[39m=\u001b[39m np\u001b[39m.\u001b[39marray([\u001b[39m0.177\u001b[39m,\u001b[39m0.884\u001b[39m,\u001b[39m-\u001b[39m\u001b[39m0.433\u001b[39m])\n\u001b[0;32m      <a href='vscode-notebook-cell:/c%3A/Users/schaeferp/Documents/Code/Coursework/EML%206281/Schaefer_HW4.ipynb#W2sZmlsZQ%3D%3D?line=5'>6</a>\u001b[0m a_F67 \u001b[39m=\u001b[39m np\u001b[39m.\u001b[39marray([\u001b[39m-\u001b[39m\u001b[39m0.153\u001b[39m,\u001b[39m0.459\u001b[39m,\u001b[39m0.875\u001b[39m])\n\u001b[1;32m----> <a href='vscode-notebook-cell:/c%3A/Users/schaeferp/Documents/Code/Coursework/EML%206281/Schaefer_HW4.ipynb#W2sZmlsZQ%3D%3D?line=7'>8</a>\u001b[0m a_71,alpha_71,S_7,t_7,S_1,g_1 \u001b[39m=\u001b[39m close_the_loop(P_6Tool,P_FTool,S_F6,a_F67)\n\u001b[0;32m      <a href='vscode-notebook-cell:/c%3A/Users/schaeferp/Documents/Code/Coursework/EML%206281/Schaefer_HW4.ipynb#W2sZmlsZQ%3D%3D?line=8'>9</a>\u001b[0m \u001b[39mprint\u001b[39m(\u001b[39m'\u001b[39m\u001b[39mLengths are in inches and angles are in degrees:\u001b[39m\u001b[39m\\n\u001b[39;00m\u001b[39m'\u001b[39m)\n\u001b[0;32m     <a href='vscode-notebook-cell:/c%3A/Users/schaeferp/Documents/Code/Coursework/EML%206281/Schaefer_HW4.ipynb#W2sZmlsZQ%3D%3D?line=9'>10</a>\u001b[0m \u001b[39mprint\u001b[39m(\u001b[39mf\u001b[39m\u001b[39m'\u001b[39m\u001b[39ma71: \u001b[39m\u001b[39m{\u001b[39;00m\u001b[39mround\u001b[39m(a_71,\u001b[39m3\u001b[39m)\u001b[39m}\u001b[39;00m\u001b[39m | alpha71 :\u001b[39m\u001b[39m{\u001b[39;00m\u001b[39mround\u001b[39m(alpha_71,\u001b[39m3\u001b[39m)\u001b[39m}\u001b[39;00m\u001b[39m\\n\u001b[39;00m\u001b[39mS7: \u001b[39m\u001b[39m{\u001b[39;00m\u001b[39mround\u001b[39m(S_7,\u001b[39m3\u001b[39m)\u001b[39m}\u001b[39;00m\u001b[39m | Theta7: \u001b[39m\u001b[39m{\u001b[39;00m\u001b[39mround\u001b[39m(t_7,\u001b[39m3\u001b[39m)\u001b[39m}\u001b[39;00m\u001b[39m\\n\u001b[39;00m\u001b[39mS1: \u001b[39m\u001b[39m{\u001b[39;00m\u001b[39mround\u001b[39m(S_1,\u001b[39m3\u001b[39m)\u001b[39m}\u001b[39;00m\u001b[39m | Gamma1: \u001b[39m\u001b[39m{\u001b[39;00m\u001b[39mround\u001b[39m(g_1,\u001b[39m3\u001b[39m)\u001b[39m}\u001b[39;00m\u001b[39m'\u001b[39m)\n",
      "\u001b[1;32mc:\\Users\\schaeferp\\Documents\\Code\\Coursework\\EML 6281\\Schaefer_HW4.ipynb Cell 3\u001b[0m line \u001b[0;36m8\n\u001b[0;32m     <a href='vscode-notebook-cell:/c%3A/Users/schaeferp/Documents/Code/Coursework/EML%206281/Schaefer_HW4.ipynb#W2sZmlsZQ%3D%3D?line=73'>74</a>\u001b[0m a_71 \u001b[39m=\u001b[39m np\u001b[39m.\u001b[39mdot(np\u001b[39m.\u001b[39mcross(P_F6org,S_F1),S_F7)\u001b[39m/\u001b[39ms_71\n\u001b[0;32m     <a href='vscode-notebook-cell:/c%3A/Users/schaeferp/Documents/Code/Coursework/EML%206281/Schaefer_HW4.ipynb#W2sZmlsZQ%3D%3D?line=77'>78</a>\u001b[0m S_1 \u001b[39m=\u001b[39m np\u001b[39m.\u001b[39mdot(np\u001b[39m.\u001b[39mcross(P_F6org,S_F7),a_F71)\u001b[39m/\u001b[39ms_71\n\u001b[1;32m---> <a href='vscode-notebook-cell:/c%3A/Users/schaeferp/Documents/Code/Coursework/EML%206281/Schaefer_HW4.ipynb#W2sZmlsZQ%3D%3D?line=79'>80</a>\u001b[0m \u001b[39mreturn\u001b[39;00m a_71,alpha_71,S_7,t_7,S_1,g_1\n",
      "\u001b[1;31mUnboundLocalError\u001b[0m: local variable 'g_1' referenced before assignment"
     ]
    }
   ],
   "source": [
    "## Check against book example\n",
    "\n",
    "P_6Tool = np.array([5,3,7])\n",
    "P_FTool = np.array([25,23,24])\n",
    "S_F6 = np.array([0.177,0.884,-0.433])\n",
    "a_F67 = np.array([-0.153,0.459,0.875])\n",
    "\n",
    "a_71,alpha_71,S_7,t_7,S_1,g_1 = close_the_loop(P_6Tool,P_FTool,S_F6,a_F67)\n",
    "print('Lengths are in inches and angles are in degrees:\\n')\n",
    "print(f'a71: {round(a_71,3)} | alpha71 :{round(alpha_71,3)}\\nS7: {round(S_7,3)} | Theta7: {round(t_7,3)}\\nS1: {round(S_1,3)} | Gamma1: {round(g_1,3)}')"
   ]
  },
  {
   "cell_type": "code",
   "execution_count": null,
   "metadata": {},
   "outputs": [],
   "source": []
  }
 ],
 "metadata": {
  "kernelspec": {
   "display_name": "Coursework",
   "language": "python",
   "name": "python3"
  },
  "language_info": {
   "codemirror_mode": {
    "name": "ipython",
    "version": 3
   },
   "file_extension": ".py",
   "mimetype": "text/x-python",
   "name": "python",
   "nbconvert_exporter": "python",
   "pygments_lexer": "ipython3",
   "version": "3.10.12"
  },
  "orig_nbformat": 4
 },
 "nbformat": 4,
 "nbformat_minor": 2
}
