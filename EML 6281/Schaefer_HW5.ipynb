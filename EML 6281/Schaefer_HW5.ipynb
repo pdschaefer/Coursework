{
 "cells": [
  {
   "cell_type": "code",
   "execution_count": 1,
   "metadata": {},
   "outputs": [],
   "source": [
    "import numpy as np\n",
    "import math as m\n",
    "from math import sin as s\n",
    "from math import cos as c"
   ]
  },
  {
   "cell_type": "code",
   "execution_count": 2,
   "metadata": {},
   "outputs": [],
   "source": [
    "def trigSoln(A,B,D):\n",
    "\n",
    "    var1 = -D/m.sqrt(A**2 + B**2)\n",
    "    var2 = A/m.sqrt(A**2 + B**2)\n",
    "\n",
    "    if (-1<var1<1) and (-1<var2<1):\n",
    "\n",
    "        gamma = m.acos(A/m.sqrt(A**2 + B**2))\n",
    "        theta = m.acos(-D/m.sqrt(A**2 + B**2)) + gamma\n",
    "        theta_ang_A = theta*(180/m.pi)\n",
    "        theta_ang_B = 360 - theta_ang_A\n",
    "\n",
    "        return theta_ang_A, theta_ang_B\n",
    "    \n",
    "    elif (-1>var1 or var1>1) or (-1>var2 or var2>1):\n",
    "        if (-1>var1 or var1>1):\n",
    "            raise ValueError(f'There is no solution: -D/m.sqrt(A**2 + B**2) outside inverse cos domain')\n",
    "        if (-1>var2 or var1>2):\n",
    "            raise ValueError(f'There is no solution: A/m.sqrt(A**2 + B**2) outside inverse cos domain')        "
   ]
  },
  {
   "cell_type": "code",
   "execution_count": 155,
   "metadata": {},
   "outputs": [],
   "source": [
    "def sphericalQuad_t1(alpha12,alpha23,alpha34,alpha41,theta,theta_index):\n",
    "\n",
    "## Ensure all inputs are in radians\n",
    "    aL = [alpha12,alpha23,alpha34,alpha41,theta]\n",
    "    for i,j in enumerate(aL):\n",
    "        if j>2*m.pi:\n",
    "            aL[i] = round(j*(m.pi/180),3)\n",
    "\n",
    "\n",
    "## Begin answer output tree\n",
    "    if theta_index == 1:\n",
    "        A = s(aL[1])*(-(s(aL[0])*c(aL[3]) + c(aL[0])*s(aL[3])*c(aL[4])))\n",
    "        B = s(aL[1])*(s(aL[3])*s(aL[4]))\n",
    "        D = c(aL[1])*(c(aL[0])*c(aL[3]) - s(aL[0])*s(aL[3])*c(aL[4])) - c(aL[2])\n",
    "\n",
    "        theta_2A = trigSoln(A,B,D)[0]\n",
    "        theta_2B = trigSoln(A,B,D)[1]\n",
    "\n",
    "        ## Buddy Equations\n",
    "\n",
    "        # A Branch\n",
    "        t2a = theta_2A*(m.pi/180)\n",
    "        t2b = theta_2B*(m.pi/180)\n",
    "\n",
    "        print(theta_2A,theta_2B)\n",
    "\n",
    "        theta_3A_s = (180/m.pi)*m.asin((s(aL[3])*s(aL[4])*c(t2a)+(s(aL[0])*c(aL[3])+c(aL[0])*s(aL[3])*c(aL[4]))*s(t2a))/s(aL[2]))\n",
    "        theta_3A_c = (180/m.pi)*m.acos((c(aL[1])*(s(aL[3])*s(aL[4])*s(t2a) - (s(aL[0])*c(aL[3]) + c(aL[0])*s(aL[3])*c(aL[4]))*c(t2a)) - s(aL[1])*(c(aL[0])*c(aL[3]) - s(aL[0])*s(aL[3])*c(aL[4])))/s(aL[2]))\n",
    "        \n",
    "        t3_calc = [theta_3A_c,360-theta_3A_c,theta_3A_s,180-theta_3A_s]\n",
    "\n",
    "        for k in range(len(t3_calc)):\n",
    "                if len([i for i,j in enumerate(t3_calc) if round(j,2) == round(t3_calc[k],2)]) > 1:\n",
    "                    theta_3A = t3_calc[k]\n",
    "                    break\n",
    "\n",
    "        t3 = theta_3A*(m.pi/180)\n",
    "        \n",
    "        theta_4A_s = (180/m.pi)*m.asin((s(aL[0])*s(t2a)*c(t3)+(s(aL[1])*c(aL[0])+c(aL[1])*s(aL[0])*c(t2a))*s(t3))/s(aL[3]))\n",
    "        theta_4A_c = (180/m.pi)*m.acos((c(aL[2])*(s(aL[0])*s(t2a)*s(t3) - (s(aL[1])*c(aL[0]) + c(aL[1])*s(aL[0])*c(t2a))*c(t3)) - s(aL[2])*(c(aL[1])*c(aL[0]) - s(aL[1])*s(aL[0])*c(t2a)))/s(aL[3])) \n",
    "\n",
    "        t4_calc = [theta_4A_c,360-theta_4A_c,theta_4A_s,180-theta_4A_s]\n",
    "\n",
    "        for k in range(len(t4_calc)):\n",
    "            if len([i for i,j in enumerate(t4_calc) if round(j,2) == round(t4_calc[k],2)]) > 1:\n",
    "                theta_4A = t4_calc[k]\n",
    "                break\n",
    "\n",
    "\n",
    "        ### B Branch\n",
    "\n",
    "        theta_3B_s = (180/m.pi)*m.asin((s(aL[3])*s(aL[4])*c(t2b)+(s(aL[0])*c(aL[3])+c(aL[0])*s(aL[3])*c(aL[4]))*s(t2b))/s(aL[2]))\n",
    "        theta_3B_c = (180/m.pi)*m.acos((c(aL[1])*(s(aL[3])*s(aL[4])*s(t2b) - (s(aL[0])*c(aL[3]) + c(aL[0])*s(aL[3])*c(aL[4]))*c(t2b)) - s(aL[1])*(c(aL[0])*c(aL[3]) - s(aL[0])*s(aL[3])*c(aL[4])))/s(aL[2]))\n",
    "        \n",
    "        t3_calcb = [theta_3B_c,360-theta_3B_c,theta_3B_s,180-theta_3B_s]\n",
    "\n",
    "        for k in range(len(t3_calcb)):\n",
    "                if len([i for i,j in enumerate(t3_calcb) if round(j,2) == round(t3_calcb[k],2)]) > 1:\n",
    "                    print('!')\n",
    "                    theta_3B = t3_calcb[k]\n",
    "                    break\n",
    "\n",
    "        print(t3_calcb)\n",
    "\n",
    "        # t3 = theta_3B*(m.pi/180)\n",
    "        \n",
    "        # theta_4A_s = (180/m.pi)*m.asin((s(aL[0])*s(t2b)*c(t3)+(s(aL[1])*c(aL[0])+c(aL[1])*s(aL[0])*c(t2b))*s(t3))/s(aL[3]))\n",
    "        # theta_4A_c = (180/m.pi)*m.acos((c(aL[2])*(s(aL[0])*s(t2b)*s(t3) - (s(aL[1])*c(aL[0]) + c(aL[1])*s(aL[0])*c(t2b))*c(t3)) - s(aL[2])*(c(aL[1])*c(aL[0]) - s(aL[1])*s(aL[0])*c(t2b)))/s(aL[3])) \n",
    "\n",
    "        # t4_calc = [theta_4A_c,360-theta_4A_c,theta_4A_s,180-theta_4A_s]\n",
    "\n",
    "        # for k in range(len(t4_calc)):\n",
    "        #     if len([i for i,j in enumerate(t4_calc) if round(j,2) == round(t4_calc[k],2)]) > 1:\n",
    "        #         theta_4B = t4_calc[k]\n",
    "        #         break\n",
    "\n",
    "        # print(theta_3B_s,360 + theta_3B_s)\n",
    "        # print(theta_3B_c,180 + theta_3B_c)\n",
    "\n",
    "\n",
    "\n",
    "\n",
    "    return f'input theta: {theta}',f'theta2A: {theta_2A}',f'theta3A: {theta_3A}',f'theta4A: {theta_4A}'#,theta_4B"
   ]
  },
  {
   "cell_type": "code",
   "execution_count": 120,
   "metadata": {},
   "outputs": [
    {
     "ename": "ValueError",
     "evalue": "not enough values to unpack (expected 4, got 3)",
     "output_type": "error",
     "traceback": [
      "\u001b[1;31m---------------------------------------------------------------------------\u001b[0m",
      "\u001b[1;31mValueError\u001b[0m                                Traceback (most recent call last)",
      "\u001b[1;32mc:\\Users\\peter\\Documents\\GitHub\\Coursework\\EML 6281\\Schaefer_HW5.ipynb Cell 4\u001b[0m line \u001b[0;36m<cell line: 1>\u001b[1;34m()\u001b[0m\n\u001b[1;32m----> <a href='vscode-notebook-cell:/c%3A/Users/peter/Documents/GitHub/Coursework/EML%206281/Schaefer_HW5.ipynb#W4sZmlsZQ%3D%3D?line=0'>1</a>\u001b[0m t,t2a,t3ac,t3as \u001b[39m=\u001b[39m sphericalQuad_t1(\u001b[39m75\u001b[39m,\u001b[39m110\u001b[39m,\u001b[39m60\u001b[39m,\u001b[39m80\u001b[39m,\u001b[39m120\u001b[39m,\u001b[39m1\u001b[39m)\n\u001b[0;32m      <a href='vscode-notebook-cell:/c%3A/Users/peter/Documents/GitHub/Coursework/EML%206281/Schaefer_HW5.ipynb#W4sZmlsZQ%3D%3D?line=1'>2</a>\u001b[0m \u001b[39mprint\u001b[39m(t,t2a,t3ac,\u001b[39m360\u001b[39m\u001b[39m-\u001b[39mt3ac,t3as,\u001b[39m180\u001b[39m\u001b[39m-\u001b[39mt3as)\n",
      "\u001b[1;31mValueError\u001b[0m: not enough values to unpack (expected 4, got 3)"
     ]
    }
   ],
   "source": [
    "t,t2a,t3ac,t3as = sphericalQuad_t1(75,110,60,80,120,1)\n",
    "print(t,t2a,t3ac,360-t3ac,t3as,180-t3as)"
   ]
  },
  {
   "cell_type": "code",
   "execution_count": 156,
   "metadata": {},
   "outputs": [
    {
     "name": "stdout",
     "output_type": "stream",
     "text": [
      "125.03938525199224 234.96061474800774\n",
      "[107.32772139984614, 252.67227860015385, -37.15718732006889, 217.15718732006889]\n"
     ]
    },
    {
     "data": {
      "text/plain": [
       "('input theta: 120',\n",
       " 'theta2A: 125.03938525199224',\n",
       " 'theta3A: 211.8140652120538',\n",
       " 'theta4A: 246.09331876620726')"
      ]
     },
     "execution_count": 156,
     "metadata": {},
     "output_type": "execute_result"
    }
   ],
   "source": [
    "sphericalQuad_t1(75,110,60,80,120,1)"
   ]
  },
  {
   "cell_type": "code",
   "execution_count": 159,
   "metadata": {},
   "outputs": [
    {
     "name": "stdout",
     "output_type": "stream",
     "text": [
      "-0.5741395985611633 -0.5741338825420336 0.8187574252268044 -0.8187614334573963\n",
      "-0.2978364243378179 -0.29858741934572897 -0.604001155656632 -0.6040011556566323\n"
     ]
    }
   ],
   "source": [
    "print(c(125.0394*(m.pi/180)),c(234.961*(m.pi/180)),s(125.0394*(m.pi/180)),s(234.961*(m.pi/180)))\n",
    "print(c(107.3277*(m.pi/180)),c(252.62722*(m.pi/180)),s(-37.157*(m.pi/180)),s(217.157*(m.pi/180)))"
   ]
  },
  {
   "cell_type": "code",
   "execution_count": 109,
   "metadata": {},
   "outputs": [
    {
     "name": "stdout",
     "output_type": "stream",
     "text": [
      "[148.1859347879462, 211.8140652120538, -31.814065212053833, 211.81406521205383]\n"
     ]
    }
   ],
   "source": [
    "x = [round(t3ac,2),round(360-t3ac,2),round(t3as,2),round(180-t3as,2)]\n",
    "x = [t3ac,360-t3ac,t3as,180-t3as]\n",
    "print(x)"
   ]
  },
  {
   "cell_type": "code",
   "execution_count": 112,
   "metadata": {},
   "outputs": [
    {
     "name": "stdout",
     "output_type": "stream",
     "text": [
      "211.8140652120538\n"
     ]
    }
   ],
   "source": [
    "for k in range(len(x)):\n",
    "    if len([i for i,j in enumerate(x) if round(j,2) == round(x[k],2)]) > 1:\n",
    "        print(x[k])\n",
    "        break"
   ]
  },
  {
   "cell_type": "code",
   "execution_count": null,
   "metadata": {},
   "outputs": [],
   "source": [
    "        theta_3B_s = (180/m.pi)*m.asin((s(aL[3])*s(aL[4])*c(t2b)+(s(aL[0])*c(aL[3])+c(aL[0])*s(aL[3])*c(aL[4]))*s(t2b))/s(aL[2]))\n",
    "        theta_3B_c = (180/m.pi)*m.acos((c(aL[1])*(s(aL[3])*s(aL[4])*s(t2b) - (s(aL[0])*c(aL[3]) + c(aL[0])*s(aL[3])*c(aL[4]))*c(t2b)) - s(aL[1])*(c(aL[0])*c(aL[3]) - s(aL[0])*s(aL[3])*c(aL[4])))/s(aL[2]))\n",
    "        \n",
    "        t3_calc = [theta_3B_c,360-theta_3B_c,theta_3B_s,180-theta_3B_s]\n",
    "\n",
    "        for k in range(len(t3_calc)):\n",
    "                if len([i for i,j in enumerate(t3_calc) if round(j,2) == round(t3_calc[k],2)]) > 1:\n",
    "                    theta_3B = t3_calc[k]\n",
    "                    break\n",
    "\n",
    "        t3 = theta_3B*(m.pi/180)\n",
    "        \n",
    "        theta_4A_s = (180/m.pi)*m.asin((s(aL[0])*s(t2b)*c(t3)+(s(aL[1])*c(aL[0])+c(aL[1])*s(aL[0])*c(t2b))*s(t3))/s(aL[3]))\n",
    "        theta_4A_c = (180/m.pi)*m.acos((c(aL[2])*(s(aL[0])*s(t2b)*s(t3) - (s(aL[1])*c(aL[0]) + c(aL[1])*s(aL[0])*c(t2b))*c(t3)) - s(aL[2])*(c(aL[1])*c(aL[0]) - s(aL[1])*s(aL[0])*c(t2b)))/s(aL[3])) \n",
    "\n",
    "        t4_calc = [theta_4A_c,360-theta_4A_c,theta_4A_s,180-theta_4A_s]\n",
    "\n",
    "        for k in range(len(t4_calc)):\n",
    "            if len([i for i,j in enumerate(t4_calc) if round(j,2) == round(t4_calc[k],2)]) > 1:\n",
    "                theta_4B = t4_calc[k]\n",
    "                break"
   ]
  }
 ],
 "metadata": {
  "kernelspec": {
   "display_name": "Coursework",
   "language": "python",
   "name": "python3"
  },
  "language_info": {
   "codemirror_mode": {
    "name": "ipython",
    "version": 3
   },
   "file_extension": ".py",
   "mimetype": "text/x-python",
   "name": "python",
   "nbconvert_exporter": "python",
   "pygments_lexer": "ipython3",
   "version": "3.10.4"
  }
 },
 "nbformat": 4,
 "nbformat_minor": 2
}
