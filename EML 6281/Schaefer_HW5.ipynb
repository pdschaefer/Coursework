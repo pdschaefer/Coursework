{
 "cells": [
  {
   "cell_type": "code",
   "execution_count": 1,
   "metadata": {},
   "outputs": [],
   "source": [
    "import numpy as np\n",
    "import math as m\n",
    "from math import sin as s\n",
    "from math import cos as c"
   ]
  },
  {
   "cell_type": "code",
   "execution_count": 205,
   "metadata": {},
   "outputs": [],
   "source": [
    "def trigSoln(A,B,D):\n",
    "\n",
    "    var1 = -D/m.sqrt(A**2 + B**2)\n",
    "    var2 = A/m.sqrt(A**2 + B**2)\n",
    "    var3 = B/m.sqrt(A**2 + B**2)\n",
    "\n",
    "    if (-1<var1<1) and (-1<var2<1):\n",
    "\n",
    "        gamma_c = (180/m.pi)*m.acos(A/m.sqrt(A**2 + B**2))\n",
    "        gamma_s = (180/m.pi)*m.asin(B/m.sqrt(A**2 + B**2))\n",
    "\n",
    "        g_c = [gamma_c,360-gamma_c,gamma_s,180-gamma_s]\n",
    "        for k in range(len(g_c)):\n",
    "                if len([i for i,j in enumerate(g_c) if round(j,2) == round(g_c[k],2)]) > 1:\n",
    "                    gamma = g_c[k]\n",
    "                    break\n",
    "        \n",
    "        print(g_c)\n",
    "\n",
    "        theta = m.acos(-D/m.sqrt(A**2 + B**2)) + gamma*(m.pi/180)\n",
    "        theta_ang_A = theta*(180/m.pi)\n",
    "        theta_ang_B = 360 - theta*(180/m.pi)\n",
    "\n",
    "        print(gamma)\n",
    "\n",
    "        return theta_ang_A, theta_ang_B\n",
    "    \n",
    "    elif (-1>var1 or var1>1) or (-1>var2 or var2>1):\n",
    "        if (-1>var1 or var1>1):\n",
    "            raise ValueError(f'There is no solution: -D/m.sqrt(A**2 + B**2) outside inverse cos domain')\n",
    "        if (-1>var2 or var2>1):\n",
    "            raise ValueError(f'There is no solution: A/m.sqrt(A**2 + B**2) outside inverse cos domain')\n",
    "        if (-1>var3 or var3>1):\n",
    "            raise ValueError(f'There is no solution: A/m.sqrt(A**2 + B**2) outside inverse cos domain')        "
   ]
  },
  {
   "cell_type": "code",
   "execution_count": 209,
   "metadata": {},
   "outputs": [],
   "source": [
    "def sphericalQuad_t1(alpha12,alpha23,alpha34,alpha41,theta,theta_index):\n",
    "\n",
    "## Ensure all inputs are in radians\n",
    "    aL = [alpha12,alpha23,alpha34,alpha41,theta]\n",
    "    for i,j in enumerate(aL):\n",
    "        if j>2*m.pi:\n",
    "            aL[i] = round(j*(m.pi/180),10)\n",
    "\n",
    "\n",
    "## Begin answer output tree\n",
    "    if theta_index == 1:\n",
    "        A = s(aL[1])*(-(s(aL[0])*c(aL[3]) + c(aL[0])*s(aL[3])*c(aL[4])))\n",
    "        B = s(aL[1])*(s(aL[3])*s(aL[4]))\n",
    "        D = c(aL[1])*(c(aL[0])*c(aL[3]) - s(aL[0])*s(aL[3])*c(aL[4])) - c(aL[2])\n",
    "\n",
    "        theta_2A = trigSoln(A,B,D)[0]\n",
    "        theta_2B = trigSoln(A,B,D)[1]\n",
    "\n",
    "        ## Buddy Equations\n",
    "\n",
    "        # A Branch\n",
    "        t2a = theta_2A*(m.pi/180)\n",
    "        t2b = theta_2B*(m.pi/180)\n",
    "\n",
    "        print(theta_2A,theta_2B)\n",
    "\n",
    "        theta_3A_s = (180/m.pi)*m.asin((s(aL[3])*s(aL[4])*c(t2a)+(s(aL[0])*c(aL[3])+c(aL[0])*s(aL[3])*c(aL[4]))*s(t2a))/s(aL[2]))\n",
    "        theta_3A_c = (180/m.pi)*m.acos((c(aL[1])*(s(aL[3])*s(aL[4])*s(t2a) - (s(aL[0])*c(aL[3]) + c(aL[0])*s(aL[3])*c(aL[4]))*c(t2a)) - s(aL[1])*(c(aL[0])*c(aL[3]) - s(aL[0])*s(aL[3])*c(aL[4])))/s(aL[2]))\n",
    "        \n",
    "        t3_calc = [theta_3A_c,360-theta_3A_c,theta_3A_s,180-theta_3A_s]\n",
    "\n",
    "        for k in range(len(t3_calc)):\n",
    "                if len([i for i,j in enumerate(t3_calc) if round(j,2) == round(t3_calc[k],2)]) > 1:\n",
    "                    theta_3A = t3_calc[k]\n",
    "                    break\n",
    "\n",
    "        t3 = theta_3A*(m.pi/180)\n",
    "        \n",
    "        theta_4A_s = (180/m.pi)*m.asin((s(aL[0])*s(t2a)*c(t3)+(s(aL[1])*c(aL[0])+c(aL[1])*s(aL[0])*c(t2a))*s(t3))/s(aL[3]))\n",
    "        theta_4A_c = (180/m.pi)*m.acos((c(aL[2])*(s(aL[0])*s(t2a)*s(t3) - (s(aL[1])*c(aL[0]) + c(aL[1])*s(aL[0])*c(t2a))*c(t3)) - s(aL[2])*(c(aL[1])*c(aL[0]) - s(aL[1])*s(aL[0])*c(t2a)))/s(aL[3])) \n",
    "\n",
    "        t4_calc = [theta_4A_c,360-theta_4A_c,theta_4A_s,180-theta_4A_s]\n",
    "\n",
    "        for k in range(len(t4_calc)):\n",
    "            if len([i for i,j in enumerate(t4_calc) if round(j,2) == round(t4_calc[k],2)]) > 1:\n",
    "                theta_4A = t4_calc[k]\n",
    "                break\n",
    "\n",
    "\n",
    "        ### B Branch\n",
    "\n",
    "        theta_3B_s = (180/m.pi)*m.asin((s(aL[3])*s(aL[4])*c(t2b)+(s(aL[0])*c(aL[3])+c(aL[0])*s(aL[3])*c(aL[4]))*s(t2b))/s(aL[2]))\n",
    "        theta_3B_c = (180/m.pi)*m.acos((c(aL[1])*(s(aL[3])*s(aL[4])*s(t2b) - (s(aL[0])*c(aL[3]) + c(aL[0])*s(aL[3])*c(aL[4]))*c(t2b)) - s(aL[1])*(c(aL[0])*c(aL[3]) - s(aL[0])*s(aL[3])*c(aL[4])))/s(aL[2]))\n",
    "        \n",
    "        t3_calcb = [theta_3B_c,360-theta_3B_c,theta_3B_s,180-theta_3B_s]\n",
    "\n",
    "        for k in range(len(t3_calcb)):\n",
    "                if len([i for i,j in enumerate(t3_calcb) if round(j,2) == round(t3_calcb[k],2)]) > 1:\n",
    "                    print('!')\n",
    "                    theta_3B = t3_calcb[k]\n",
    "                    break\n",
    "\n",
    "        print(t3_calcb)\n",
    "\n",
    "        # t3 = theta_3B*(m.pi/180)\n",
    "        \n",
    "        # theta_4A_s = (180/m.pi)*m.asin((s(aL[0])*s(t2b)*c(t3)+(s(aL[1])*c(aL[0])+c(aL[1])*s(aL[0])*c(t2b))*s(t3))/s(aL[3]))\n",
    "        # theta_4A_c = (180/m.pi)*m.acos((c(aL[2])*(s(aL[0])*s(t2b)*s(t3) - (s(aL[1])*c(aL[0]) + c(aL[1])*s(aL[0])*c(t2b))*c(t3)) - s(aL[2])*(c(aL[1])*c(aL[0]) - s(aL[1])*s(aL[0])*c(t2b)))/s(aL[3])) \n",
    "\n",
    "        # t4_calc = [theta_4A_c,360-theta_4A_c,theta_4A_s,180-theta_4A_s]\n",
    "\n",
    "        # for k in range(len(t4_calc)):\n",
    "        #     if len([i for i,j in enumerate(t4_calc) if round(j,2) == round(t4_calc[k],2)]) > 1:\n",
    "        #         theta_4B = t4_calc[k]\n",
    "        #         break\n",
    "\n",
    "\n",
    "\n",
    "\n",
    "    return f'input theta: {theta}',f'theta2A: {theta_2A}',f'theta3A: {theta_3A}',f'theta4A: {theta_4A}',f'theta2B: {theta_2B}',#f'theta3B: {theta_3B}',#f'theta4B: {theta_4B}'#,theta_4B"
   ]
  },
  {
   "cell_type": "code",
   "execution_count": 210,
   "metadata": {},
   "outputs": [
    {
     "name": "stdout",
     "output_type": "stream",
     "text": [
      "[92.70452453557344, 267.29547546442654, 87.29547546442656, 92.70452453557344]\n",
      "92.70452453557344\n",
      "[92.70452453557344, 267.29547546442654, 87.29547546442656, 92.70452453557344]\n",
      "92.70452453557344\n",
      "125.02217072995342 234.97782927004658\n",
      "[107.34630124530179, 252.6536987546982, -37.10456295365315, 217.10456295365316]\n"
     ]
    },
    {
     "data": {
      "text/plain": [
       "('input theta: 120',\n",
       " 'theta2A: 125.02217072995342',\n",
       " 'theta3A: 211.80822320901987',\n",
       " 'theta4A: 246.09781023667838',\n",
       " 'theta2B: 234.97782927004658')"
      ]
     },
     "execution_count": 210,
     "metadata": {},
     "output_type": "execute_result"
    }
   ],
   "source": [
    "sphericalQuad_t1(75,110,60,80,120,1)"
   ]
  },
  {
   "cell_type": "code",
   "execution_count": 173,
   "metadata": {},
   "outputs": [
    {
     "data": {
      "text/plain": [
       "(-0.5741395985611633,\n",
       " -0.5741395985611631,\n",
       " 0.8187574252268044,\n",
       " -0.8187574252268045)"
      ]
     },
     "execution_count": 173,
     "metadata": {},
     "output_type": "execute_result"
    }
   ],
   "source": [
    "c(125.0394*(m.pi/180)),c(234.9606*(m.pi/180)),s(125.0394*(m.pi/180)),s(234.9606*(m.pi/180))"
   ]
  },
  {
   "cell_type": "code",
   "execution_count": 109,
   "metadata": {},
   "outputs": [
    {
     "name": "stdout",
     "output_type": "stream",
     "text": [
      "[148.1859347879462, 211.8140652120538, -31.814065212053833, 211.81406521205383]\n"
     ]
    }
   ],
   "source": [
    "x = [round(t3ac,2),round(360-t3ac,2),round(t3as,2),round(180-t3as,2)]\n",
    "x = [t3ac,360-t3ac,t3as,180-t3as]\n",
    "print(x)"
   ]
  },
  {
   "cell_type": "code",
   "execution_count": 112,
   "metadata": {},
   "outputs": [
    {
     "name": "stdout",
     "output_type": "stream",
     "text": [
      "211.8140652120538\n"
     ]
    }
   ],
   "source": [
    "for k in range(len(x)):\n",
    "    if len([i for i,j in enumerate(x) if round(j,2) == round(x[k],2)]) > 1:\n",
    "        print(x[k])\n",
    "        break"
   ]
  },
  {
   "cell_type": "code",
   "execution_count": null,
   "metadata": {},
   "outputs": [],
   "source": [
    "        theta_3B_s = (180/m.pi)*m.asin((s(aL[3])*s(aL[4])*c(t2b)+(s(aL[0])*c(aL[3])+c(aL[0])*s(aL[3])*c(aL[4]))*s(t2b))/s(aL[2]))\n",
    "        theta_3B_c = (180/m.pi)*m.acos((c(aL[1])*(s(aL[3])*s(aL[4])*s(t2b) - (s(aL[0])*c(aL[3]) + c(aL[0])*s(aL[3])*c(aL[4]))*c(t2b)) - s(aL[1])*(c(aL[0])*c(aL[3]) - s(aL[0])*s(aL[3])*c(aL[4])))/s(aL[2]))\n",
    "        \n",
    "        t3_calc = [theta_3B_c,360-theta_3B_c,theta_3B_s,180-theta_3B_s]\n",
    "\n",
    "        for k in range(len(t3_calc)):\n",
    "                if len([i for i,j in enumerate(t3_calc) if round(j,2) == round(t3_calc[k],2)]) > 1:\n",
    "                    theta_3B = t3_calc[k]\n",
    "                    break\n",
    "\n",
    "        t3 = theta_3B*(m.pi/180)\n",
    "        \n",
    "        theta_4A_s = (180/m.pi)*m.asin((s(aL[0])*s(t2b)*c(t3)+(s(aL[1])*c(aL[0])+c(aL[1])*s(aL[0])*c(t2b))*s(t3))/s(aL[3]))\n",
    "        theta_4A_c = (180/m.pi)*m.acos((c(aL[2])*(s(aL[0])*s(t2b)*s(t3) - (s(aL[1])*c(aL[0]) + c(aL[1])*s(aL[0])*c(t2b))*c(t3)) - s(aL[2])*(c(aL[1])*c(aL[0]) - s(aL[1])*s(aL[0])*c(t2b)))/s(aL[3])) \n",
    "\n",
    "        t4_calc = [theta_4A_c,360-theta_4A_c,theta_4A_s,180-theta_4A_s]\n",
    "\n",
    "        for k in range(len(t4_calc)):\n",
    "            if len([i for i,j in enumerate(t4_calc) if round(j,2) == round(t4_calc[k],2)]) > 1:\n",
    "                theta_4B = t4_calc[k]\n",
    "                break"
   ]
  }
 ],
 "metadata": {
  "kernelspec": {
   "display_name": "Coursework",
   "language": "python",
   "name": "python3"
  },
  "language_info": {
   "codemirror_mode": {
    "name": "ipython",
    "version": 3
   },
   "file_extension": ".py",
   "mimetype": "text/x-python",
   "name": "python",
   "nbconvert_exporter": "python",
   "pygments_lexer": "ipython3",
   "version": "3.10.4"
  }
 },
 "nbformat": 4,
 "nbformat_minor": 2
}
