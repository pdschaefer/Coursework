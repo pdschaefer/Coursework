{
 "cells": [
  {
   "cell_type": "code",
   "execution_count": 23,
   "metadata": {},
   "outputs": [],
   "source": [
    "import numpy as np\n",
    "import math as m\n",
    "from math import sin as s\n",
    "from math import cos as c"
   ]
  },
  {
   "cell_type": "code",
   "execution_count": 141,
   "metadata": {},
   "outputs": [],
   "source": [
    "def trigSoln(A,B,D):\n",
    "\n",
    "    var1 = -D/m.sqrt(A**2 + B**2)\n",
    "    var2 = A/m.sqrt(A**2 + B**2)\n",
    "\n",
    "    if (-1<var1<1) and (-1<var2<1):\n",
    "\n",
    "        gamma = m.acos(A/m.sqrt(A**2 + B**2))\n",
    "        theta = m.acos(-D/m.sqrt(A**2 + B**2)) + gamma\n",
    "        theta_ang_A = theta*(180/m.pi)\n",
    "        theta_ang_B = 360 - theta_ang_A\n",
    "\n",
    "        return theta_ang_A, theta_ang_B\n",
    "    \n",
    "    elif (-1>var1 or var1>1) or (-1>var2 or var2>1):\n",
    "        if (-1>var1 or var1>1):\n",
    "            raise ValueError(f'There is no solution: -D/m.sqrt(A**2 + B**2) outside inverse cos domain')\n",
    "        if (-1>var2 or var1>2):\n",
    "            raise ValueError(f'There is no solution: A/m.sqrt(A**2 + B**2) outside inverse cos domain')        "
   ]
  },
  {
   "cell_type": "code",
   "execution_count": 136,
   "metadata": {},
   "outputs": [
    {
     "ename": "ValueError",
     "evalue": "There is no solution: -D/m.sqrt(A**2 + B**2) outside inverse cos bounds",
     "output_type": "error",
     "traceback": [
      "\u001b[1;31m---------------------------------------------------------------------------\u001b[0m",
      "\u001b[1;31mValueError\u001b[0m                                Traceback (most recent call last)",
      "\u001b[1;32mc:\\Users\\schaeferp\\Documents\\Code\\Coursework\\EML 6281\\Schaefer_HW5.ipynb Cell 3\u001b[0m line \u001b[0;36m1\n\u001b[1;32m----> <a href='vscode-notebook-cell:/c%3A/Users/schaeferp/Documents/Code/Coursework/EML%206281/Schaefer_HW5.ipynb#X12sZmlsZQ%3D%3D?line=0'>1</a>\u001b[0m \u001b[39mprint\u001b[39m(trigSoln(\u001b[39m1\u001b[39;49m,\u001b[39m2\u001b[39;49m,\u001b[39m3\u001b[39;49m))\n\u001b[0;32m      <a href='vscode-notebook-cell:/c%3A/Users/schaeferp/Documents/Code/Coursework/EML%206281/Schaefer_HW5.ipynb#X12sZmlsZQ%3D%3D?line=1'>2</a>\u001b[0m A\u001b[39m=\u001b[39m\u001b[39m1\u001b[39m\n\u001b[0;32m      <a href='vscode-notebook-cell:/c%3A/Users/schaeferp/Documents/Code/Coursework/EML%206281/Schaefer_HW5.ipynb#X12sZmlsZQ%3D%3D?line=2'>3</a>\u001b[0m B\u001b[39m=\u001b[39m\u001b[39m2\u001b[39m\n",
      "\u001b[1;32mc:\\Users\\schaeferp\\Documents\\Code\\Coursework\\EML 6281\\Schaefer_HW5.ipynb Cell 3\u001b[0m line \u001b[0;36m1\n\u001b[0;32m     <a href='vscode-notebook-cell:/c%3A/Users/schaeferp/Documents/Code/Coursework/EML%206281/Schaefer_HW5.ipynb#X12sZmlsZQ%3D%3D?line=14'>15</a>\u001b[0m \u001b[39melif\u001b[39;00m (\u001b[39m-\u001b[39m\u001b[39m1\u001b[39m\u001b[39m>\u001b[39mvar1 \u001b[39mor\u001b[39;00m var1\u001b[39m>\u001b[39m\u001b[39m1\u001b[39m) \u001b[39mor\u001b[39;00m (\u001b[39m-\u001b[39m\u001b[39m1\u001b[39m\u001b[39m>\u001b[39mvar2 \u001b[39mor\u001b[39;00m var2\u001b[39m>\u001b[39m\u001b[39m1\u001b[39m):\n\u001b[0;32m     <a href='vscode-notebook-cell:/c%3A/Users/schaeferp/Documents/Code/Coursework/EML%206281/Schaefer_HW5.ipynb#X12sZmlsZQ%3D%3D?line=15'>16</a>\u001b[0m     \u001b[39mif\u001b[39;00m (\u001b[39m-\u001b[39m\u001b[39m1\u001b[39m\u001b[39m>\u001b[39mvar1 \u001b[39mor\u001b[39;00m var1\u001b[39m>\u001b[39m\u001b[39m1\u001b[39m):\n\u001b[1;32m---> <a href='vscode-notebook-cell:/c%3A/Users/schaeferp/Documents/Code/Coursework/EML%206281/Schaefer_HW5.ipynb#X12sZmlsZQ%3D%3D?line=16'>17</a>\u001b[0m         \u001b[39mraise\u001b[39;00m \u001b[39mValueError\u001b[39;00m(\u001b[39mf\u001b[39m\u001b[39m'\u001b[39m\u001b[39mThere is no solution: -D/m.sqrt(A**2 + B**2) outside inverse cos bounds\u001b[39m\u001b[39m'\u001b[39m)\n\u001b[0;32m     <a href='vscode-notebook-cell:/c%3A/Users/schaeferp/Documents/Code/Coursework/EML%206281/Schaefer_HW5.ipynb#X12sZmlsZQ%3D%3D?line=17'>18</a>\u001b[0m     \u001b[39mif\u001b[39;00m (\u001b[39m-\u001b[39m\u001b[39m1\u001b[39m\u001b[39m>\u001b[39mvar2 \u001b[39mor\u001b[39;00m var1\u001b[39m>\u001b[39m\u001b[39m2\u001b[39m):\n\u001b[0;32m     <a href='vscode-notebook-cell:/c%3A/Users/schaeferp/Documents/Code/Coursework/EML%206281/Schaefer_HW5.ipynb#X12sZmlsZQ%3D%3D?line=18'>19</a>\u001b[0m         \u001b[39mraise\u001b[39;00m \u001b[39mValueError\u001b[39;00m(\u001b[39mf\u001b[39m\u001b[39m'\u001b[39m\u001b[39mThere is no solution: A/m.sqrt(A**2 + B**2) outside inverse cos bounds\u001b[39m\u001b[39m'\u001b[39m)\n",
      "\u001b[1;31mValueError\u001b[0m: There is no solution: -D/m.sqrt(A**2 + B**2) outside inverse cos bounds"
     ]
    }
   ],
   "source": [
    "print(trigSoln(1,2,3))\n",
    "A=1\n",
    "B=2\n",
    "D=3\n",
    "-D/m.sqrt(A**2 + B**2)"
   ]
  },
  {
   "cell_type": "code",
   "execution_count": 103,
   "metadata": {},
   "outputs": [
    {
     "data": {
      "text/plain": [
       "(-0.9952245207128441, -0.9952245207128441)"
      ]
     },
     "execution_count": 103,
     "metadata": {},
     "output_type": "execute_result"
    }
   ],
   "source": [
    "c(trigSoln(5,10,4)[0]*(m.pi/180)),c(trigSoln(5,10,4)[1]*(m.pi/180))"
   ]
  },
  {
   "cell_type": "code",
   "execution_count": 97,
   "metadata": {},
   "outputs": [
    {
     "data": {
      "text/plain": [
       "(0.29370667262360256, 0.29370667262360256)"
      ]
     },
     "execution_count": 97,
     "metadata": {},
     "output_type": "execute_result"
    }
   ],
   "source": [
    "c(72.92*(m.pi/180)),c(287.08*(m.pi/180))"
   ]
  },
  {
   "cell_type": "code",
   "execution_count": 137,
   "metadata": {},
   "outputs": [],
   "source": [
    "def sphericalQuad(alpha12,alpha23,alpha34,alpha41,theta,theta_index):\n",
    "\n",
    "## Ensure all inputs are in radians\n",
    "    ang_list = [alpha12,alpha23,alpha34,alpha41,theta]\n",
    "    for i,j in enumerate(ang_list):\n",
    "        if j>2*m.pi:\n",
    "            ang_list[i] = round(j*(m.pi/180),3)\n",
    "\n",
    "\n",
    "## Begin answer output tree\n",
    "    if theta_index == 1:\n",
    "        A = s(ang_list[1])*(-(s(ang_list[0])*c(ang_list[3]) + c(ang_list[0])*s(ang_list[3])*c(ang_list[4])))\n",
    "        B = s(ang_list[1])*(s(ang_list[3])*s(ang_list[4]))\n",
    "        D = c(ang_list[1])*(c(ang_list[0])*c(ang_list[3]) - s(ang_list[0])*s(ang_list[3])*c(ang_list[4])) - c(ang_list[2])\n",
    "\n",
    "        theta_2A = trigSoln(A,B,D)[0]\n",
    "        theta_2B = trigSoln(A,B,D)[1]\n",
    "\n",
    "        ## Buddy Equations\n",
    "\n",
    "\n",
    "    \n",
    "    elif theta_index == 2:\n",
    "        A = s(ang_list[1])*(-(s(ang_list[0])*c(ang_list[3]) + c(ang_list[0])*s(ang_list[3])*c(ang_list[4])))\n",
    "        B = s(ang_list[1])*(s(ang_list[3])*s(ang_list[4]))\n",
    "        D = c(ang_list[1])*(c(ang_list[0])*c(ang_list[3]) - s(ang_list[0])*s(ang_list[3])*c(ang_list[4])) - c(ang_list[2])\n",
    "\n",
    "        theta_3A = trigSoln(A,B,D)[0]\n",
    "        theta_3B = trigSoln(A,B,D)[1]\n",
    "\n",
    "        ## Buddy Equations\n",
    "\n",
    "\n",
    "    \n",
    "\n",
    "    elif theta_index == 3:\n",
    "\n",
    "        A = s(ang_list[1])*(-(s(ang_list[0])*c(ang_list[3]) + c(ang_list[0])*s(ang_list[3])*c(ang_list[4])))\n",
    "        B = s(ang_list[1])*(s(ang_list[3])*s(ang_list[4]))\n",
    "        D = c(ang_list[1])*(c(ang_list[0])*c(ang_list[3]) - s(ang_list[0])*s(ang_list[3])*c(ang_list[4])) - c(ang_list[2])\n",
    "\n",
    "        theta_4A = trigSoln(A,B,D)[0]\n",
    "        theta_4B = trigSoln(A,B,D)[1]\n",
    "\n",
    "\n",
    "        ## Buddy Equations\n",
    "\n",
    "\n",
    "    \n",
    "    elif theta_index == 4:\n",
    "        A = s(ang_list[1])*(-(s(ang_list[0])*c(ang_list[3]) + c(ang_list[0])*s(ang_list[3])*c(ang_list[4])))\n",
    "        B = s(ang_list[1])*(s(ang_list[3])*s(ang_list[4]))\n",
    "        D = c(ang_list[1])*(c(ang_list[0])*c(ang_list[3]) - s(ang_list[0])*s(ang_list[3])*c(ang_list[4])) - c(ang_list[2])\n",
    "\n",
    "        theta_1A = trigSoln(A,B,D)[0]\n",
    "        theta_1B = trigSoln(A,B,D)[1]\n",
    "\n",
    "        \n",
    "        ## Buddy Equations\n",
    "\n",
    "\n",
    "    \n",
    "     \n",
    "    return ang_list"
   ]
  },
  {
   "cell_type": "code",
   "execution_count": 139,
   "metadata": {},
   "outputs": [
    {
     "data": {
      "text/plain": [
       "[1.309, 1.92, 1.047, 1.396, 2.094]"
      ]
     },
     "execution_count": 139,
     "metadata": {},
     "output_type": "execute_result"
    }
   ],
   "source": [
    "sphericalQuad(75,110,60,80,120,1)"
   ]
  },
  {
   "cell_type": "code",
   "execution_count": 51,
   "metadata": {},
   "outputs": [
    {
     "data": {
      "text/plain": [
       "-33.98321855046059"
      ]
     },
     "execution_count": 51,
     "metadata": {},
     "output_type": "execute_result"
    }
   ],
   "source": [
    "-D/m.sqrt(A**2 + B**2)"
   ]
  },
  {
   "cell_type": "code",
   "execution_count": null,
   "metadata": {},
   "outputs": [],
   "source": []
  }
 ],
 "metadata": {
  "kernelspec": {
   "display_name": "Coursework",
   "language": "python",
   "name": "python3"
  },
  "language_info": {
   "codemirror_mode": {
    "name": "ipython",
    "version": 3
   },
   "file_extension": ".py",
   "mimetype": "text/x-python",
   "name": "python",
   "nbconvert_exporter": "python",
   "pygments_lexer": "ipython3",
   "version": "3.10.12"
  }
 },
 "nbformat": 4,
 "nbformat_minor": 2
}
