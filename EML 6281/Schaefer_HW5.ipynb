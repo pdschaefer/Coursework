{
 "cells": [
  {
   "cell_type": "code",
   "execution_count": 3,
   "metadata": {},
   "outputs": [],
   "source": [
    "import numpy as np\n",
    "import math as m\n",
    "from math import sin as s\n",
    "from math import cos as c"
   ]
  },
  {
   "cell_type": "markdown",
   "metadata": {},
   "source": [
    "##### Problem 6.2"
   ]
  },
  {
   "cell_type": "code",
   "execution_count": 4,
   "metadata": {},
   "outputs": [],
   "source": [
    "def trigSoln(A,B,D):\n",
    "\n",
    "    var1 = -D/m.sqrt(A**2 + B**2)\n",
    "\n",
    "    if (-1<var1 and var1<1):\n",
    "\n",
    "        gamma_c = (180/m.pi)*m.acos(A/m.sqrt(A**2 + B**2))\n",
    "        gamma_s = (180/m.pi)*m.asin(B/m.sqrt(A**2 + B**2))\n",
    "\n",
    "        g_c = [gamma_c,360-gamma_c,gamma_s,180-gamma_s]\n",
    "        for k in range(len(g_c)):\n",
    "                if len([i for i,j in enumerate(g_c) if round(j,2) == round(g_c[k],2)]) > 1:\n",
    "                    gamma = g_c[k]\n",
    "                    break\n",
    "        \n",
    "        t_g = m.acos(-D/m.sqrt(A**2 + B**2))\n",
    "        t_g2 = 2*m.pi - t_g\n",
    "        theta_g = t_g + gamma*(m.pi/180)\n",
    "        if t_g2 + gamma*(m.pi/180) > 2*m.pi:\n",
    "            theta_g2 = t_g2 + gamma*(m.pi/180) - 2*m.pi\n",
    "        elif t_g2 + gamma*(m.pi/180) < 2*m.pi:\n",
    "            theta_g2 = t_g2 + gamma*(m.pi/180)\n",
    "\n",
    "        theta_ang_A = theta_g*(180/m.pi)\n",
    "        theta_ang_B = theta_g2*(180/m.pi)# - 360\n",
    "        \n",
    "        return theta_ang_A, theta_ang_B\n",
    "    \n",
    "    elif (-1>var1 or var1>1):\n",
    "        if (-1>var1 or var1>1):\n",
    "            raise ValueError(f'There is no solution: -D/m.sqrt(A**2 + B**2) outside inverse cos domain')       "
   ]
  },
  {
   "cell_type": "code",
   "execution_count": 5,
   "metadata": {},
   "outputs": [
    {
     "name": "stdout",
     "output_type": "stream",
     "text": [
      "(136.53538762405572, 63.50805095467712)\n"
     ]
    }
   ],
   "source": [
    "# test example from text\n",
    "print(trigSoln(-.1093,0.6185,-0.5048))"
   ]
  },
  {
   "cell_type": "code",
   "execution_count": null,
   "metadata": {},
   "outputs": [],
   "source": [
    "# test example w/ no soln\n",
    "trigSoln(-3,5,10)"
   ]
  },
  {
   "cell_type": "markdown",
   "metadata": {},
   "source": [
    "##### Problem 6.3"
   ]
  },
  {
   "cell_type": "code",
   "execution_count": 7,
   "metadata": {},
   "outputs": [],
   "source": [
    "def sphericalQuad_t1(alpha12,alpha23,alpha34,alpha41,theta,theta_index):\n",
    "\n",
    "## Ensure all inputs are in radians\n",
    "    aL = [alpha12,alpha23,alpha34,alpha41,theta]\n",
    "    for i,j in enumerate(aL):\n",
    "        if j>2*m.pi:\n",
    "            aL[i] = round(j*(m.pi/180),10)\n",
    "\n",
    "\n",
    "## Begin answer output tree\n",
    "    if theta_index == 1:\n",
    "        A = s(aL[1])*(-(s(aL[0])*c(aL[3]) + c(aL[0])*s(aL[3])*c(aL[4])))\n",
    "        B = s(aL[1])*(s(aL[3])*s(aL[4]))\n",
    "        D = c(aL[1])*(c(aL[0])*c(aL[3]) - s(aL[0])*s(aL[3])*c(aL[4])) - c(aL[2])\n",
    "\n",
    "        theta_2A = trigSoln(A,B,D)[0]\n",
    "        theta_2B = trigSoln(A,B,D)[1]\n",
    "\n",
    "        ## Buddy Equations\n",
    "\n",
    "        # A Branch\n",
    "        t2a = theta_2A*(m.pi/180)\n",
    "\n",
    "\n",
    "        theta_3A_s = (180/m.pi)*m.asin((s(aL[3])*s(aL[4])*c(t2a)+(s(aL[0])*c(aL[3])+c(aL[0])*s(aL[3])*c(aL[4]))*s(t2a))/s(aL[2]))\n",
    "        theta_3A_c = (180/m.pi)*m.acos((c(aL[1])*(s(aL[3])*s(aL[4])*s(t2a) - (s(aL[0])*c(aL[3]) \n",
    "                                        + c(aL[0])*s(aL[3])*c(aL[4]))*c(t2a)) \n",
    "                                        - s(aL[1])*(c(aL[0])*c(aL[3]) \n",
    "                                        - s(aL[0])*s(aL[3])*c(aL[4])))/s(aL[2]))\n",
    "        \n",
    "        t3_calc = [theta_3A_c,360-theta_3A_c,-theta_3A_s,180-theta_3A_s]\n",
    "\n",
    "        for k in range(len(t3_calc)):\n",
    "                if len([i for i,j in enumerate(t3_calc) if round(j,2) == round(t3_calc[k],2)]) > 1:\n",
    "                    theta_3A = t3_calc[k]\n",
    "                    break\n",
    "\n",
    "        t3 = theta_3A*(m.pi/180)\n",
    "        \n",
    "        theta_4A_s = (180/m.pi)*m.asin((s(aL[0])*s(t2a)*c(t3)+(s(aL[1])*c(aL[0])+c(aL[1])*s(aL[0])*c(t2a))*s(t3))/s(aL[3]))\n",
    "        theta_4A_c = (180/m.pi)*m.acos((c(aL[2])*(s(aL[0])*s(t2a)*s(t3) \n",
    "                                        - (s(aL[1])*c(aL[0]) + c(aL[1])*s(aL[0])*c(t2a))*c(t3)) \n",
    "                                        - s(aL[2])*(c(aL[1])*c(aL[0]) - s(aL[1])*s(aL[0])*c(t2a)))/s(aL[3])) \n",
    "\n",
    "        t4_calc = [theta_4A_c,360-theta_4A_c,-theta_4A_s,180-theta_4A_s]\n",
    "\n",
    "        for k in range(len(t4_calc)):\n",
    "            if len([i for i,j in enumerate(t4_calc) if round(j,2) == round(t4_calc[k],2)]) > 1:\n",
    "                theta_4A = t4_calc[k]\n",
    "                break\n",
    "\n",
    "\n",
    "        ### B Branch\n",
    "        t2b = theta_2B*(m.pi/180)\n",
    "        \n",
    "        theta_3B_s = (180/m.pi)*m.asin((s(aL[3])*s(aL[4])*c(t2b)+(s(aL[0])*c(aL[3])+c(aL[0])*s(aL[3])*c(aL[4]))*s(t2b))/s(aL[2]))\n",
    "        theta_3B_c = (180/m.pi)*m.acos((c(aL[1])*(s(aL[3])*s(aL[4])*s(t2b) \n",
    "                                        - (s(aL[0])*c(aL[3]) + c(aL[0])*s(aL[3])*c(aL[4]))*c(t2b)) \n",
    "                                        - s(aL[1])*(c(aL[0])*c(aL[3]) - s(aL[0])*s(aL[3])*c(aL[4])))/s(aL[2]))\n",
    "        \n",
    "        t3_calcb = [theta_3B_c,360-theta_3B_c,-theta_3B_s,180-theta_3B_s]\n",
    "\n",
    "        for k in range(len(t3_calcb)):\n",
    "                if len([i for i,j in enumerate(t3_calcb) if round(j,2) == round(t3_calcb[k],2)]) > 1:\n",
    "                    theta_3B = t3_calcb[k]\n",
    "                    break\n",
    "\n",
    "        t3 = theta_3B*(m.pi/180)\n",
    "        \n",
    "        theta_4B_s = (180/m.pi)*m.asin((s(aL[0])*s(t2b)*c(t3)+(s(aL[1])*c(aL[0])+c(aL[1])*s(aL[0])*c(t2b))*s(t3))/s(aL[3]))\n",
    "        theta_4B_c = (180/m.pi)*m.acos((c(aL[2])*(s(aL[0])*s(t2b)*s(t3) \n",
    "                                        - (s(aL[1])*c(aL[0]) + c(aL[1])*s(aL[0])*c(t2b))*c(t3)) \n",
    "                                        - s(aL[2])*(c(aL[1])*c(aL[0]) - s(aL[1])*s(aL[0])*c(t2b)))/s(aL[3])) \n",
    "\n",
    "        t4_calcb = [theta_4B_c,360-theta_4B_c,-theta_4B_s,180-theta_4B_s]\n",
    "\n",
    "        for k in range(len(t4_calcb)):\n",
    "            if len([i for i,j in enumerate(t4_calcb) if round(j,2) == round(t4_calcb[k],2)]) > 1:\n",
    "                theta_4B = t4_calcb[k]\n",
    "                break\n",
    "\n",
    "\n",
    "\n",
    "\n",
    "    return f'input theta1: {theta}',f'theta2A: {theta_2A}',f'theta3A: {theta_3A}',f'theta4A: {theta_4A}',f'theta2B: {theta_2B}',f'theta3B: {theta_3B}',f'theta4B: {theta_4B}'"
   ]
  },
  {
   "cell_type": "code",
   "execution_count": 8,
   "metadata": {},
   "outputs": [
    {
     "data": {
      "text/plain": [
       "('input theta1: 120',\n",
       " 'theta2A: 125.02217072995342',\n",
       " 'theta3A: 211.80822320901987',\n",
       " 'theta4A: 246.09781023667838',\n",
       " 'theta2B: 60.3868783411935',\n",
       " 'theta3B: 148.19177679098013',\n",
       " 'theta4B: 42.98862455516407')"
      ]
     },
     "execution_count": 8,
     "metadata": {},
     "output_type": "execute_result"
    }
   ],
   "source": [
    "sphericalQuad_t1(75,110,60,80,120,1)"
   ]
  }
 ],
 "metadata": {
  "kernelspec": {
   "display_name": "Coursework",
   "language": "python",
   "name": "python3"
  },
  "language_info": {
   "codemirror_mode": {
    "name": "ipython",
    "version": 3
   },
   "file_extension": ".py",
   "mimetype": "text/x-python",
   "name": "python",
   "nbconvert_exporter": "python",
   "pygments_lexer": "ipython3",
   "version": "3.10.12"
  }
 },
 "nbformat": 4,
 "nbformat_minor": 2
}
