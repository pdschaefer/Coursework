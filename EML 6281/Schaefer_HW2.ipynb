{
 "cells": [
  {
   "cell_type": "code",
   "execution_count": 1,
   "metadata": {},
   "outputs": [],
   "source": [
    "import numpy as np\n",
    "import math as m\n",
    "import pandas as pd\n",
    "color ='\\033[97m'"
   ]
  },
  {
   "cell_type": "code",
   "execution_count": 6,
   "metadata": {},
   "outputs": [
    {
     "name": "stdout",
     "output_type": "stream",
     "text": [
      "B to C:\n",
      "[[ 1.          0.          0.          0.        ]\n",
      " [ 0.          0.81915204 -0.57357644  0.        ]\n",
      " [ 0.          0.57357644  0.81915204  0.        ]\n",
      " [ 0.          0.          0.          1.        ]]\n",
      "\n",
      "\n",
      "C to D:\n",
      "[[-0.5        0.         0.8660254  0.       ]\n",
      " [ 0.         1.         0.         0.       ]\n",
      " [-0.8660254  0.        -0.5        0.       ]\n",
      " [ 0.         0.         0.         1.       ]]\n",
      "\n",
      "\n",
      "B to D:\n",
      "[[-0.5         0.          0.8660254   0.        ]\n",
      " [ 0.49673176  0.81915204  0.28678822  0.        ]\n",
      " [-0.70940648  0.57357644 -0.40957602  0.        ]\n",
      " [ 0.          0.          0.          1.        ]]\n",
      "\n",
      "\n",
      "Return B to original position in one rotation: \n",
      " [[-0.5         0.49673176 -0.70940648 -0.        ]\n",
      " [-0.          0.81915204  0.57357644  0.        ]\n",
      " [ 0.8660254   0.28678822 -0.40957602  0.        ]\n",
      " [ 0.          0.          0.          1.        ]]\n"
     ]
    }
   ],
   "source": [
    "## First Rotation about x\n",
    "r1_ang = 35\n",
    "r1 = r1_ang*(m.pi/180)\n",
    "\n",
    "BC_T = np.array([\n",
    "                    1,0,0,0,\n",
    "                    0,m.cos(r1),-m.sin(r1),0,\n",
    "                    0,m.sin(r1),m.cos(r1),0,\n",
    "                    0,0,0,1\n",
    "                ]).reshape(4,4)\n",
    "\n",
    "## Second Rotation about new y\n",
    "r2_ang = 120\n",
    "r2 = r2_ang*(m.pi/180)\n",
    "\n",
    "CD_T = np.array([\n",
    "                    m.cos(r2),0,m.sin(r2),0,\n",
    "                    0,1,0,0,\n",
    "                    -m.sin(r2),0,m.cos(r2),0,\n",
    "                    0,0,0,1\n",
    "                ]).reshape(4,4)\n",
    "\n",
    "BD_T = np.matmul(\n",
    "                    BC_T,\n",
    "                    CD_T\n",
    "                )\n",
    "\n",
    "DB_T = np.linalg.inv(BD_T).round(8)\n",
    "print(f\"B to C:\\n{BC_T}\\n\\n\")\n",
    "print(f\"C to D:\\n{CD_T}\\n\\n\")\n",
    "print(f\"B to D:\\n{BD_T}\\n\\n\")\n",
    "print(f\"Return B to original position in one rotation: \\n {DB_T}\")\n"
   ]
  }
 ],
 "metadata": {
  "kernelspec": {
   "display_name": "FML_Playground",
   "language": "python",
   "name": "python3"
  },
  "language_info": {
   "codemirror_mode": {
    "name": "ipython",
    "version": 3
   },
   "file_extension": ".py",
   "mimetype": "text/x-python",
   "name": "python",
   "nbconvert_exporter": "python",
   "pygments_lexer": "ipython3",
   "version": "3.10.4"
  },
  "orig_nbformat": 4
 },
 "nbformat": 4,
 "nbformat_minor": 2
}
