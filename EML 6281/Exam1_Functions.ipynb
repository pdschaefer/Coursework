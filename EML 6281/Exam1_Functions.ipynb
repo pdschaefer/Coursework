{
 "cells": [
  {
   "cell_type": "code",
   "execution_count": 6,
   "metadata": {},
   "outputs": [],
   "source": [
    "import numpy as np\n",
    "import math as m"
   ]
  },
  {
   "cell_type": "code",
   "execution_count": 15,
   "metadata": {},
   "outputs": [],
   "source": [
    "i_mat = np.array([\n",
    "                    1,0,0,0,\n",
    "                    0,1,0,0,\n",
    "                    0,0,1,0,\n",
    "                    0,0,0,1\n",
    "]).reshape(4,4)"
   ]
  },
  {
   "cell_type": "code",
   "execution_count": 7,
   "metadata": {},
   "outputs": [],
   "source": [
    "def point_trans(mat,p_vector):\n",
    "    return mat@p_vector"
   ]
  },
  {
   "cell_type": "code",
   "execution_count": 8,
   "metadata": {},
   "outputs": [],
   "source": [
    "def generic_rot(m_vector,theta):\n",
    "\n",
    "    # unitize axis\n",
    "    m_vec = np.array(m_vector).reshape(3,1)\n",
    "    m_unit = m_vec / np.linalg.norm(m_vec)\n",
    "\n",
    "    if theta > 4*m.pi:\n",
    "        theta_rad = 60*(m.pi/180)\n",
    "    else: \n",
    "        theta = theta_rad\n",
    "\n",
    "    m_unit = m_vec / np.linalg.norm(m_vec)\n",
    "    v = 1 - m.cos(theta_rad)\n",
    "\n",
    "    gen_trans = np.zeros([4,4])\n",
    "    gen_trans[0][0] = (m_unit[0]**2)*v + m.cos(theta_rad)\n",
    "    gen_trans[0][1] = m_unit[0]*m_unit[1]*v - m_unit[2]*m.sin(theta_rad)\n",
    "    gen_trans[0][2] = m_unit[0]*m_unit[2]*v + m_unit[1]*m.sin(theta_rad)\n",
    "    gen_trans[1][0] = m_unit[0]*m_unit[1]*v + m_unit[2]*m.sin(theta_rad)\n",
    "    gen_trans[1][1] = (m_unit[1]**2)*v + m.cos(theta_rad)\n",
    "    gen_trans[1][2] = m_unit[1]*m_unit[2]*v - m_unit[0]*m.sin(theta_rad)\n",
    "    gen_trans[2][0] = m_unit[0]*m_unit[2]*v - m_unit[1]*m.sin(theta_rad)\n",
    "    gen_trans[2][1] = m_unit[1]*m_unit[2]*v + m_unit[0]*m.sin(theta_rad)\n",
    "    gen_trans[2][2] = (m_unit[2]**2)*v + m.cos(theta_rad)\n",
    "    gen_trans[3][3] = 1\n",
    "\n",
    "    return gen_trans"
   ]
  },
  {
   "cell_type": "code",
   "execution_count": 9,
   "metadata": {},
   "outputs": [],
   "source": [
    "def x_rot(mat,theta):\n",
    "    \n",
    "    if theta > 4*m.pi:\n",
    "        theta_rad = theta*(m.pi/180)\n",
    "    else: \n",
    "        theta = theta_rad\n",
    "\n",
    "    x_mat = np.array([\n",
    "                        1,0,0,0,\n",
    "                        0,m.cos(theta),-m.sin(theta),0,\n",
    "                        0,m.sin(theta),m.cos(theta),0,\n",
    "                        0,0,0,1\n",
    "    ]).reshape(4,4)\n",
    "    \n",
    "    return mat@x_mat"
   ]
  },
  {
   "cell_type": "code",
   "execution_count": 10,
   "metadata": {},
   "outputs": [],
   "source": [
    "def y_rot(mat,theta):\n",
    "\n",
    "    if theta > 4*m.pi:\n",
    "        theta_rad = theta*(m.pi/180)\n",
    "    else: \n",
    "        theta = theta_rad\n",
    "\n",
    "    y_mat = np.array([\n",
    "                        m.cos(theta),0,m.sin(theta),0,\n",
    "                        0,1,0,0,\n",
    "                        -m.sin(theta),0,m.cos(theta),0,\n",
    "                        0,0,0,1\n",
    "    ]).reshape(4,4)\n",
    "    \n",
    "    return mat@y_mat"
   ]
  },
  {
   "cell_type": "code",
   "execution_count": 11,
   "metadata": {},
   "outputs": [],
   "source": [
    "def z_rot(mat,theta):\n",
    "\n",
    "    if theta > 4*m.pi:\n",
    "        theta_rad = theta*(m.pi/180)\n",
    "    else: \n",
    "        theta = theta_rad\n",
    "\n",
    "    z_mat = np.array([\n",
    "                        m.cos(theta),-m.sin(theta),0,0,\n",
    "                        m.sin(theta),m.cos(theta),0,0,\n",
    "                        0,0,1,0,\n",
    "                        0,0,0,1\n",
    "    ]).reshape(4,4)\n",
    "\n",
    "    return mat@z_mat"
   ]
  },
  {
   "cell_type": "code",
   "execution_count": 12,
   "metadata": {},
   "outputs": [
    {
     "data": {
      "text/plain": [
       "array([[ 0.52898551, -0.67182943,  0.5184781 ,  0.        ],\n",
       "       [ 0.78777146,  0.61594203, -0.00561586,  0.        ],\n",
       "       [-0.31557955,  0.41141296,  0.85507246,  0.        ],\n",
       "       [ 0.        ,  0.        ,  0.        ,  1.        ]])"
      ]
     },
     "execution_count": 12,
     "metadata": {},
     "output_type": "execute_result"
    }
   ],
   "source": [
    "m_vector = [2,4,7]\n",
    "theta = 60\n",
    "\n",
    "generic_rot(m_vector,theta)"
   ]
  },
  {
   "cell_type": "code",
   "execution_count": 16,
   "metadata": {},
   "outputs": [
    {
     "data": {
      "text/plain": [
       "array([[ 0.81418097,  0.        ,  0.58061118,  0.        ],\n",
       "       [-0.24860765, -0.90369221,  0.34861818,  0.        ],\n",
       "       [ 0.5246938 , -0.42818267, -0.735769  ,  0.        ],\n",
       "       [ 0.        ,  0.        ,  0.        ,  1.        ]])"
      ]
     },
     "execution_count": 16,
     "metadata": {},
     "output_type": "execute_result"
    }
   ],
   "source": [
    "x_rot(i_mat,35)@y_rot(i_mat,120)"
   ]
  }
 ],
 "metadata": {
  "kernelspec": {
   "display_name": "FML_Playground",
   "language": "python",
   "name": "python3"
  },
  "language_info": {
   "codemirror_mode": {
    "name": "ipython",
    "version": 3
   },
   "file_extension": ".py",
   "mimetype": "text/x-python",
   "name": "python",
   "nbconvert_exporter": "python",
   "pygments_lexer": "ipython3",
   "version": "3.10.4"
  },
  "orig_nbformat": 4
 },
 "nbformat": 4,
 "nbformat_minor": 2
}
