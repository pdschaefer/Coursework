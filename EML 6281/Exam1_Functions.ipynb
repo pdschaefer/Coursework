{
 "cells": [
  {
   "cell_type": "code",
   "execution_count": 44,
   "metadata": {},
   "outputs": [],
   "source": [
    "import numpy as np\n",
    "import math as m"
   ]
  },
  {
   "cell_type": "code",
   "execution_count": 45,
   "metadata": {},
   "outputs": [],
   "source": [
    "i_mat = np.array([\n",
    "                    1,0,0,0,\n",
    "                    0,1,0,0,\n",
    "                    0,0,1,0,\n",
    "                    0,0,0,1\n",
    "]).reshape(4,4)"
   ]
  },
  {
   "cell_type": "code",
   "execution_count": 46,
   "metadata": {},
   "outputs": [],
   "source": [
    "def point_trans(mat,p_vector):\n",
    "    return mat@p_vector"
   ]
  },
  {
   "cell_type": "code",
   "execution_count": 101,
   "metadata": {},
   "outputs": [],
   "source": [
    "def generic_rot(m_vector,theta):\n",
    "\n",
    "    # unitize axis\n",
    "    m_vec = np.array(m_vector).reshape(3,1)\n",
    "\n",
    "    if round(np.linalg.norm(m_vec),2) != 1:\n",
    "        raise TypeError('UNITIZE VECTOR')\n",
    "\n",
    "    if theta > 4*m.pi:\n",
    "        theta = theta*(m.pi/180)\n",
    "    else: \n",
    "        theta = theta\n",
    "\n",
    "    m_unit = m_vec\n",
    "    v = 1 - m.cos(theta)\n",
    "\n",
    "    gen_trans = np.zeros([4,4])\n",
    "    gen_trans[0][0] = (m_unit[0]**2)*v + m.cos(theta)\n",
    "    gen_trans[0][1] = m_unit[0]*m_unit[1]*v - m_unit[2]*m.sin(theta)\n",
    "    gen_trans[0][2] = m_unit[0]*m_unit[2]*v + m_unit[1]*m.sin(theta)\n",
    "    gen_trans[1][0] = m_unit[0]*m_unit[1]*v + m_unit[2]*m.sin(theta)\n",
    "    gen_trans[1][1] = (m_unit[1]**2)*v + m.cos(theta)\n",
    "    gen_trans[1][2] = m_unit[1]*m_unit[2]*v - m_unit[0]*m.sin(theta)\n",
    "    gen_trans[2][0] = m_unit[0]*m_unit[2]*v - m_unit[1]*m.sin(theta)\n",
    "    gen_trans[2][1] = m_unit[1]*m_unit[2]*v + m_unit[0]*m.sin(theta)\n",
    "    gen_trans[2][2] = (m_unit[2]**2)*v + m.cos(theta)\n",
    "    gen_trans[3][3] = 1\n",
    "\n",
    "    return gen_trans"
   ]
  },
  {
   "cell_type": "code",
   "execution_count": 48,
   "metadata": {},
   "outputs": [],
   "source": [
    "def x_rot(mat,theta):\n",
    "    \n",
    "    if theta > 4*m.pi:\n",
    "        theta = theta*(m.pi/180)\n",
    "    else: \n",
    "        theta = theta\n",
    "\n",
    "    x_mat = np.array([\n",
    "                        1,0,0,0,\n",
    "                        0,m.cos(theta),-m.sin(theta),0,\n",
    "                        0,m.sin(theta),m.cos(theta),0,\n",
    "                        0,0,0,1\n",
    "    ]).reshape(4,4)\n",
    "    \n",
    "    return mat@x_mat"
   ]
  },
  {
   "cell_type": "code",
   "execution_count": 49,
   "metadata": {},
   "outputs": [],
   "source": [
    "def y_rot(mat,theta):\n",
    "\n",
    "    if theta > 4*m.pi:\n",
    "        theta = theta*(m.pi/180)\n",
    "    else: \n",
    "        theta = theta\n",
    "\n",
    "    y_mat = np.array([\n",
    "                        m.cos(theta),0,m.sin(theta),0,\n",
    "                        0,1,0,0,\n",
    "                        -m.sin(theta),0,m.cos(theta),0,\n",
    "                        0,0,0,1\n",
    "    ]).reshape(4,4)\n",
    "    \n",
    "    return mat@y_mat"
   ]
  },
  {
   "cell_type": "code",
   "execution_count": 50,
   "metadata": {},
   "outputs": [],
   "source": [
    "def z_rot(mat,theta):\n",
    "\n",
    "    if theta > 4*m.pi:\n",
    "        theta = theta*(m.pi/180)\n",
    "    else: \n",
    "        theta = theta\n",
    "\n",
    "    z_mat = np.array([\n",
    "                        m.cos(theta),-m.sin(theta),0,0,\n",
    "                        m.sin(theta),m.cos(theta),0,0,\n",
    "                        0,0,1,0,\n",
    "                        0,0,0,1\n",
    "    ]).reshape(4,4)\n",
    "\n",
    "    return mat@z_mat"
   ]
  },
  {
   "cell_type": "code",
   "execution_count": 51,
   "metadata": {},
   "outputs": [
    {
     "data": {
      "text/plain": [
       "array([[ 0.52898551, -0.67182943,  0.5184781 ,  5.13731742],\n",
       "       [ 0.78777146,  0.61594203, -0.00561586, -0.83831423],\n",
       "       [-0.31557955,  0.41141296,  0.85507246, -0.98876827],\n",
       "       [ 0.        ,  0.        ,  0.        ,  1.        ]])"
      ]
     },
     "execution_count": 51,
     "metadata": {},
     "output_type": "execute_result"
    }
   ],
   "source": [
    "m_vector = [2,4,7]\n",
    "theta = 60\n",
    "\n",
    "AC_T = np.array([\n",
    "                    1,0,0,3,\n",
    "                    0,1,0,4,\n",
    "                    0,0,1,-2,\n",
    "                    0,0,0,1\n",
    "                ]).reshape(4,4)\n",
    "\n",
    "DB_T = np.array([\n",
    "                    1,0,0,-3,\n",
    "                    0,1,0,-4,\n",
    "                    0,0,1,2,\n",
    "                    0,0,0,1\n",
    "                ]).reshape(4,4)\n",
    "\n",
    "\n",
    "AC_T@generic_rot(m_vector,theta)@DB_T\n"
   ]
  },
  {
   "cell_type": "code",
   "execution_count": 123,
   "metadata": {},
   "outputs": [
    {
     "name": "stdout",
     "output_type": "stream",
     "text": [
      "[[ 1.          0.          0.          2.        ]\n",
      " [ 0.          0.81915204 -0.57357644  4.        ]\n",
      " [ 0.          0.57357644  0.81915204 -5.        ]\n",
      " [ 0.          0.          0.          1.        ]] \n",
      "\n",
      "[[ 1.          0.          0.         -2.        ]\n",
      " [ 0.          0.81915204  0.57357644 -0.408726  ]\n",
      " [ 0.         -0.57357644  0.81915204  6.39006597]\n",
      " [ 0.          0.          0.          1.        ]] \n",
      "\n",
      "dm\n",
      " [0.37139068 0.88238003 0.28891945] \n",
      "\n",
      "d_p2\n",
      " [[1.         0.         0.         3.        ]\n",
      " [0.         1.         0.         4.91661232]\n",
      " [0.         0.         1.         8.76509688]\n",
      " [0.         0.         0.         1.        ]]\n",
      "dp2\n",
      " [3.         4.91661232 8.76509688 1.        ] \n",
      "\n"
     ]
    },
    {
     "data": {
      "text/plain": [
       "array([[ 0.3610509 , -0.03618404,  0.93184385, -4.07295142],\n",
       "       [ 0.87081948,  0.3705858 , -0.32301642,  1.39678508],\n",
       "       [-0.33364006,  0.92809314,  0.16531011, -0.0111131 ],\n",
       "       [ 0.        ,  0.        ,  0.        ,  1.        ]])"
      ]
     },
     "execution_count": 123,
     "metadata": {},
     "output_type": "execute_result"
    }
   ],
   "source": [
    "p1 = np.array([\n",
    "                1,0,0,2,\n",
    "                0,1,0,4,\n",
    "                0,0,1,-5,\n",
    "                0,0,0,1\n",
    "]).reshape(4,4)\n",
    "\n",
    "AC_T = x_rot(p1,35)\n",
    "\n",
    "print(x_rot(p1,35),'\\n')\n",
    "\n",
    "print(np.linalg.inv(AC_T),'\\n')\n",
    "\n",
    "a_m = [2,3,4] / np.linalg.norm([2,3,4])\n",
    "\n",
    "a_p2 = np.array([\n",
    "                1,0,0,5,\n",
    "                0,1,0,3,\n",
    "                0,0,1,5,\n",
    "                0,0,0,1\n",
    "]).reshape(4,4)\n",
    "\n",
    "d_m = np.linalg.inv(AC_T[:3,:3])@a_m\n",
    "\n",
    "print('dm\\n',d_m,'\\n')\n",
    "\n",
    "d_p2 = (np.linalg.inv(AC_T)@a_p2)[:,-1].T\n",
    "rotd_p2 = np.array([\n",
    "                    1,0,0,d_p2[0],\n",
    "                    0,1,0,d_p2[1],\n",
    "                    0,0,1,d_p2[2],\n",
    "                    0,0,0,1\n",
    "]).reshape(4,4)\n",
    "print('d_p2\\n',rotd_p2)\n",
    "Md_p2 = np.array([\n",
    "                    1,0,0,-d_p2[0],\n",
    "                    0,1,0,-d_p2[1],\n",
    "                    0,0,1,-d_p2[2],\n",
    "                    0,0,0,1\n",
    "]).reshape(4,4)\n",
    "\n",
    "print('dp2\\n',d_p2,'\\n')\n",
    "\n",
    "m_rot = generic_rot(d_m,75)\n",
    "\n",
    "rot = rotd_p2@m_rot\n",
    "\n",
    "CB_T = rot@Md_p2\n",
    "\n",
    "AC_T@CB_T"
   ]
  }
 ],
 "metadata": {
  "kernelspec": {
   "display_name": "FML_Playground",
   "language": "python",
   "name": "python3"
  },
  "language_info": {
   "codemirror_mode": {
    "name": "ipython",
    "version": 3
   },
   "file_extension": ".py",
   "mimetype": "text/x-python",
   "name": "python",
   "nbconvert_exporter": "python",
   "pygments_lexer": "ipython3",
   "version": "3.10.4"
  },
  "orig_nbformat": 4
 },
 "nbformat": 4,
 "nbformat_minor": 2
}
