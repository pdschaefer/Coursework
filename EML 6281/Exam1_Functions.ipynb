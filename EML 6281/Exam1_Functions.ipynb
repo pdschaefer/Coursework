{
 "cells": [
  {
   "cell_type": "code",
   "execution_count": 29,
   "metadata": {},
   "outputs": [],
   "source": [
    "import numpy as np\n",
    "import math as m"
   ]
  },
  {
   "cell_type": "code",
   "execution_count": 30,
   "metadata": {},
   "outputs": [],
   "source": [
    "i_mat = np.array([\n",
    "                    1,0,0,0,\n",
    "                    0,1,0,0,\n",
    "                    0,0,1,0,\n",
    "                    0,0,0,1\n",
    "]).reshape(4,4)"
   ]
  },
  {
   "cell_type": "code",
   "execution_count": 31,
   "metadata": {},
   "outputs": [],
   "source": [
    "def point_trans(mat,p_vector):\n",
    "    return mat@p_vector"
   ]
  },
  {
   "cell_type": "code",
   "execution_count": 37,
   "metadata": {},
   "outputs": [],
   "source": [
    "def generic_rot(m_vector,theta):\n",
    "\n",
    "    # unitize axis\n",
    "    m_vec = np.array(m_vector).reshape(3,1)\n",
    "    m_unit = m_vec / np.linalg.norm(m_vec)\n",
    "\n",
    "    if theta > 4*m.pi:\n",
    "        theta = theta*(m.pi/180)\n",
    "    else: \n",
    "        theta = theta\n",
    "\n",
    "    m_unit = m_vec / np.linalg.norm(m_vec)\n",
    "    v = 1 - m.cos(theta)\n",
    "\n",
    "    gen_trans = np.zeros([4,4])\n",
    "    gen_trans[0][0] = (m_unit[0]**2)*v + m.cos(theta)\n",
    "    gen_trans[0][1] = m_unit[0]*m_unit[1]*v - m_unit[2]*m.sin(theta)\n",
    "    gen_trans[0][2] = m_unit[0]*m_unit[2]*v + m_unit[1]*m.sin(theta)\n",
    "    gen_trans[1][0] = m_unit[0]*m_unit[1]*v + m_unit[2]*m.sin(theta)\n",
    "    gen_trans[1][1] = (m_unit[1]**2)*v + m.cos(theta)\n",
    "    gen_trans[1][2] = m_unit[1]*m_unit[2]*v - m_unit[0]*m.sin(theta)\n",
    "    gen_trans[2][0] = m_unit[0]*m_unit[2]*v - m_unit[1]*m.sin(theta)\n",
    "    gen_trans[2][1] = m_unit[1]*m_unit[2]*v + m_unit[0]*m.sin(theta)\n",
    "    gen_trans[2][2] = (m_unit[2]**2)*v + m.cos(theta)\n",
    "    gen_trans[3][3] = 1\n",
    "\n",
    "    return gen_trans"
   ]
  },
  {
   "cell_type": "code",
   "execution_count": 33,
   "metadata": {},
   "outputs": [],
   "source": [
    "def x_rot(mat,theta):\n",
    "    \n",
    "    if theta > 4*m.pi:\n",
    "        theta = theta*(m.pi/180)\n",
    "    else: \n",
    "        theta = theta\n",
    "\n",
    "    x_mat = np.array([\n",
    "                        1,0,0,0,\n",
    "                        0,m.cos(theta),-m.sin(theta),0,\n",
    "                        0,m.sin(theta),m.cos(theta),0,\n",
    "                        0,0,0,1\n",
    "    ]).reshape(4,4)\n",
    "    \n",
    "    return mat@x_mat"
   ]
  },
  {
   "cell_type": "code",
   "execution_count": 34,
   "metadata": {},
   "outputs": [],
   "source": [
    "def y_rot(mat,theta):\n",
    "\n",
    "    if theta > 4*m.pi:\n",
    "        theta = theta*(m.pi/180)\n",
    "    else: \n",
    "        theta = theta\n",
    "\n",
    "    y_mat = np.array([\n",
    "                        m.cos(theta),0,m.sin(theta),0,\n",
    "                        0,1,0,0,\n",
    "                        -m.sin(theta),0,m.cos(theta),0,\n",
    "                        0,0,0,1\n",
    "    ]).reshape(4,4)\n",
    "    \n",
    "    return mat@y_mat"
   ]
  },
  {
   "cell_type": "code",
   "execution_count": 35,
   "metadata": {},
   "outputs": [],
   "source": [
    "def z_rot(mat,theta):\n",
    "\n",
    "    if theta > 4*m.pi:\n",
    "        theta = theta*(m.pi/180)\n",
    "    else: \n",
    "        theta = theta\n",
    "\n",
    "    z_mat = np.array([\n",
    "                        m.cos(theta),-m.sin(theta),0,0,\n",
    "                        m.sin(theta),m.cos(theta),0,0,\n",
    "                        0,0,1,0,\n",
    "                        0,0,0,1\n",
    "    ]).reshape(4,4)\n",
    "\n",
    "    return mat@z_mat"
   ]
  },
  {
   "cell_type": "code",
   "execution_count": 42,
   "metadata": {},
   "outputs": [
    {
     "data": {
      "text/plain": [
       "array([[ 0.52898551, -0.67182943,  0.5184781 ,  5.13731742],\n",
       "       [ 0.78777146,  0.61594203, -0.00561586, -0.83831423],\n",
       "       [-0.31557955,  0.41141296,  0.85507246, -0.98876827],\n",
       "       [ 0.        ,  0.        ,  0.        ,  1.        ]])"
      ]
     },
     "execution_count": 42,
     "metadata": {},
     "output_type": "execute_result"
    }
   ],
   "source": [
    "m_vector = [2,4,7]\n",
    "theta = 60\n",
    "\n",
    "AC_T = np.array([\n",
    "                    1,0,0,3,\n",
    "                    0,1,0,4,\n",
    "                    0,0,1,-2,\n",
    "                    0,0,0,1\n",
    "                ]).reshape(4,4)\n",
    "\n",
    "DB_T = np.array([\n",
    "                    1,0,0,-3,\n",
    "                    0,1,0,-4,\n",
    "                    0,0,1,2,\n",
    "                    0,0,0,1\n",
    "                ]).reshape(4,4)\n",
    "\n",
    "\n",
    "AC_T@generic_rot(m_vector,theta)@DB_T\n"
   ]
  },
  {
   "cell_type": "code",
   "execution_count": 39,
   "metadata": {},
   "outputs": [
    {
     "data": {
      "text/plain": [
       "array([[-0.5       ,  0.        ,  0.8660254 ,  0.        ],\n",
       "       [ 0.49673176,  0.81915204,  0.28678822,  0.        ],\n",
       "       [-0.70940648,  0.57357644, -0.40957602,  0.        ],\n",
       "       [ 0.        ,  0.        ,  0.        ,  1.        ]])"
      ]
     },
     "execution_count": 39,
     "metadata": {},
     "output_type": "execute_result"
    }
   ],
   "source": [
    "x_rot(i_mat,35)@y_rot(i_mat,120)"
   ]
  },
  {
   "cell_type": "code",
   "execution_count": null,
   "metadata": {},
   "outputs": [],
   "source": []
  }
 ],
 "metadata": {
  "kernelspec": {
   "display_name": "FML_Playground",
   "language": "python",
   "name": "python3"
  },
  "language_info": {
   "codemirror_mode": {
    "name": "ipython",
    "version": 3
   },
   "file_extension": ".py",
   "mimetype": "text/x-python",
   "name": "python",
   "nbconvert_exporter": "python",
   "pygments_lexer": "ipython3",
   "version": "3.10.4"
  },
  "orig_nbformat": 4
 },
 "nbformat": 4,
 "nbformat_minor": 2
}
